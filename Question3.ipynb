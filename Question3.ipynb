{
 "cells": [
  {
   "cell_type": "markdown",
   "metadata": {
    "id": "s2ohp92_jZPN"
   },
   "source": [
    "# تمرین سری سوم درس پردازش داده های حجیم\n",
    "# زهرا دهقانیان\n",
    "# 401300417\n",
    "\n",
    "\n"
   ]
  },
  {
   "cell_type": "code",
   "execution_count": 3,
   "metadata": {
    "colab": {
     "base_uri": "https://localhost:8080/"
    },
    "id": "sDLhCkjnkLXx",
    "outputId": "a41f62a9-af9c-41c6-d476-9b7b26a4842c"
   },
   "outputs": [
    {
     "name": "stdout",
     "output_type": "stream",
     "text": [
      "Requirement already satisfied: pyspark in /usr/local/lib/python3.7/dist-packages (3.2.0)\n",
      "Requirement already satisfied: py4j==0.10.9.2 in /usr/local/lib/python3.7/dist-packages (from pyspark) (0.10.9.2)\n",
      "The following additional packages will be installed:\n",
      "  openjdk-8-jre-headless\n",
      "Suggested packages:\n",
      "  openjdk-8-demo openjdk-8-source libnss-mdns fonts-dejavu-extra\n",
      "  fonts-ipafont-gothic fonts-ipafont-mincho fonts-wqy-microhei\n",
      "  fonts-wqy-zenhei fonts-indic\n",
      "The following NEW packages will be installed:\n",
      "  openjdk-8-jdk-headless openjdk-8-jre-headless\n",
      "0 upgraded, 2 newly installed, 0 to remove and 85 not upgraded.\n",
      "Need to get 36.5 MB of archives.\n",
      "After this operation, 143 MB of additional disk space will be used.\n",
      "Selecting previously unselected package openjdk-8-jre-headless:amd64.\n",
      "(Reading database ... 155222 files and directories currently installed.)\n",
      "Preparing to unpack .../openjdk-8-jre-headless_8u312-b07-0ubuntu1~18.04_amd64.deb ...\n",
      "Unpacking openjdk-8-jre-headless:amd64 (8u312-b07-0ubuntu1~18.04) ...\n",
      "Selecting previously unselected package openjdk-8-jdk-headless:amd64.\n",
      "Preparing to unpack .../openjdk-8-jdk-headless_8u312-b07-0ubuntu1~18.04_amd64.deb ...\n",
      "Unpacking openjdk-8-jdk-headless:amd64 (8u312-b07-0ubuntu1~18.04) ...\n",
      "Setting up openjdk-8-jre-headless:amd64 (8u312-b07-0ubuntu1~18.04) ...\n",
      "update-alternatives: using /usr/lib/jvm/java-8-openjdk-amd64/jre/bin/orbd to provide /usr/bin/orbd (orbd) in auto mode\n",
      "update-alternatives: using /usr/lib/jvm/java-8-openjdk-amd64/jre/bin/servertool to provide /usr/bin/servertool (servertool) in auto mode\n",
      "update-alternatives: using /usr/lib/jvm/java-8-openjdk-amd64/jre/bin/tnameserv to provide /usr/bin/tnameserv (tnameserv) in auto mode\n",
      "Setting up openjdk-8-jdk-headless:amd64 (8u312-b07-0ubuntu1~18.04) ...\n",
      "update-alternatives: using /usr/lib/jvm/java-8-openjdk-amd64/bin/idlj to provide /usr/bin/idlj (idlj) in auto mode\n",
      "update-alternatives: using /usr/lib/jvm/java-8-openjdk-amd64/bin/wsimport to provide /usr/bin/wsimport (wsimport) in auto mode\n",
      "update-alternatives: using /usr/lib/jvm/java-8-openjdk-amd64/bin/jsadebugd to provide /usr/bin/jsadebugd (jsadebugd) in auto mode\n",
      "update-alternatives: using /usr/lib/jvm/java-8-openjdk-amd64/bin/native2ascii to provide /usr/bin/native2ascii (native2ascii) in auto mode\n",
      "update-alternatives: using /usr/lib/jvm/java-8-openjdk-amd64/bin/javah to provide /usr/bin/javah (javah) in auto mode\n",
      "update-alternatives: using /usr/lib/jvm/java-8-openjdk-amd64/bin/hsdb to provide /usr/bin/hsdb (hsdb) in auto mode\n",
      "update-alternatives: using /usr/lib/jvm/java-8-openjdk-amd64/bin/clhsdb to provide /usr/bin/clhsdb (clhsdb) in auto mode\n",
      "update-alternatives: using /usr/lib/jvm/java-8-openjdk-amd64/bin/xjc to provide /usr/bin/xjc (xjc) in auto mode\n",
      "update-alternatives: using /usr/lib/jvm/java-8-openjdk-amd64/bin/schemagen to provide /usr/bin/schemagen (schemagen) in auto mode\n",
      "update-alternatives: using /usr/lib/jvm/java-8-openjdk-amd64/bin/extcheck to provide /usr/bin/extcheck (extcheck) in auto mode\n",
      "update-alternatives: using /usr/lib/jvm/java-8-openjdk-amd64/bin/jhat to provide /usr/bin/jhat (jhat) in auto mode\n",
      "update-alternatives: using /usr/lib/jvm/java-8-openjdk-amd64/bin/wsgen to provide /usr/bin/wsgen (wsgen) in auto mode\n"
     ]
    }
   ],
   "source": [
    "!pip install pyspark\n",
    "!pip install -U -q PyDrive\n",
    "!apt install openjdk-8-jdk-headless -qq --fix-missing\n",
    "import os\n",
    "os.environ[\"JAVA_HOME\"] = \"/usr/lib/jvm/java-8-openjdk-amd64\""
   ]
  },
  {
   "cell_type": "code",
   "execution_count": 2,
   "metadata": {
    "colab": {
     "base_uri": "https://localhost:8080/"
    },
    "id": "B5Ym1HcBoFTB",
    "outputId": "0cdb8b78-0f75-4c42-c488-067b270d5bb9"
   },
   "outputs": [
    {
     "name": "stdout",
     "output_type": "stream",
     "text": [
      "\r\n",
      "0% [Working]\r\n",
      "            \r\n",
      "Get:1 https://cloud.r-project.org/bin/linux/ubuntu bionic-cran40/ InRelease [3,626 B]\n",
      "\r\n",
      "0% [Connecting to archive.ubuntu.com (91.189.88.142)] [Connecting to security.u\r\n",
      "0% [Connecting to archive.ubuntu.com (91.189.88.142)] [Connecting to security.u\r\n",
      "0% [1 InRelease gpgv 3,626 B] [Connecting to archive.ubuntu.com (91.189.88.142)\r\n",
      "                                                                               \r\n",
      "Ign:2 https://developer.download.nvidia.com/compute/cuda/repos/ubuntu1804/x86_64  InRelease\n",
      "\r\n",
      "0% [1 InRelease gpgv 3,626 B] [Waiting for headers] [Waiting for headers] [Wait\r\n",
      "                                                                               \r\n",
      "Get:3 http://ppa.launchpad.net/c2d4u.team/c2d4u4.0+/ubuntu bionic InRelease [15.9 kB]\n",
      "\r\n",
      "0% [1 InRelease gpgv 3,626 B] [Waiting for headers] [Waiting for headers] [3 In\r\n",
      "                                                                               \r\n",
      "Hit:4 http://archive.ubuntu.com/ubuntu bionic InRelease\n",
      "Get:5 http://security.ubuntu.com/ubuntu bionic-security InRelease [88.7 kB]\n",
      "Get:6 http://archive.ubuntu.com/ubuntu bionic-updates InRelease [88.7 kB]\n",
      "Ign:7 https://developer.download.nvidia.com/compute/machine-learning/repos/ubuntu1804/x86_64  InRelease\n",
      "Get:8 https://developer.download.nvidia.com/compute/cuda/repos/ubuntu1804/x86_64  Release [696 B]\n",
      "Hit:9 https://developer.download.nvidia.com/compute/machine-learning/repos/ubuntu1804/x86_64  Release\n",
      "Get:10 https://developer.download.nvidia.com/compute/cuda/repos/ubuntu1804/x86_64  Release.gpg [836 B]\n",
      "Get:11 https://cloud.r-project.org/bin/linux/ubuntu bionic-cran40/ Packages [73.9 kB]\n",
      "Hit:12 http://ppa.launchpad.net/cran/libgit2/ubuntu bionic InRelease\n",
      "Get:13 http://archive.ubuntu.com/ubuntu bionic-backports InRelease [74.6 kB]\n",
      "Get:14 http://ppa.launchpad.net/deadsnakes/ppa/ubuntu bionic InRelease [15.9 kB]\n",
      "Hit:15 http://ppa.launchpad.net/graphics-drivers/ppa/ubuntu bionic InRelease\n",
      "Get:16 http://ppa.launchpad.net/c2d4u.team/c2d4u4.0+/ubuntu bionic/main Sources [1,821 kB]\n",
      "Get:18 https://developer.download.nvidia.com/compute/cuda/repos/ubuntu1804/x86_64  Packages [833 kB]\n",
      "Get:19 http://ppa.launchpad.net/c2d4u.team/c2d4u4.0+/ubuntu bionic/main amd64 Packages [934 kB]\n",
      "Get:20 http://security.ubuntu.com/ubuntu bionic-security/universe amd64 Packages [1,452 kB]\n",
      "Get:21 http://security.ubuntu.com/ubuntu bionic-security/restricted amd64 Packages [691 kB]\n",
      "Get:22 http://security.ubuntu.com/ubuntu bionic-security/main amd64 Packages [2,461 kB]\n",
      "Get:23 http://archive.ubuntu.com/ubuntu bionic-updates/main amd64 Packages [2,898 kB]\n",
      "Get:24 http://archive.ubuntu.com/ubuntu bionic-updates/universe amd64 Packages [2,230 kB]\n",
      "Get:25 http://ppa.launchpad.net/deadsnakes/ppa/ubuntu bionic/main amd64 Packages [45.3 kB]\n",
      "Get:26 http://archive.ubuntu.com/ubuntu bionic-backports/universe amd64 Packages [12.6 kB]\n",
      "Get:27 http://archive.ubuntu.com/ubuntu bionic-backports/main amd64 Packages [11.6 kB]\n",
      "Fetched 13.8 MB in 4s (3,626 kB/s)\n",
      "Reading package lists... Done\n"
     ]
    }
   ],
   "source": [
    "!apt-get update"
   ]
  },
  {
   "cell_type": "code",
   "execution_count": 4,
   "metadata": {
    "colab": {
     "base_uri": "https://localhost:8080/"
    },
    "id": "Gu7YwC_xoQFH",
    "outputId": "b7e0a455-4835-4494-a0af-fa91bcb24f91"
   },
   "outputs": [
    {
     "name": "stdout",
     "output_type": "stream",
     "text": [
      "Mounted at /content/drive\n"
     ]
    }
   ],
   "source": [
    "from google.colab import drive\n",
    "# This will prompt for authorization.\n",
    "drive.mount('/content/drive')"
   ]
  },
  {
   "cell_type": "code",
   "execution_count": 5,
   "metadata": {
    "id": "uUV0tLJtpiVw"
   },
   "outputs": [],
   "source": [
    "from pyspark import SparkContext, SparkConf \n",
    "from pyspark.sql import SparkSession\n",
    "from pyspark.sql.types import StructType,StructField, StringType, IntegerType,TimestampType\n",
    "from pyspark.sql.functions import col,current_timestamp,to_date,hour,dayofweek\n",
    "spark = SparkSession \\\n",
    "    .builder \\\n",
    "    .appName(\"Fave_Project\") \\\n",
    "    .master(\"local[*]\") \\\n",
    "    .getOrCreate()\n",
    "\n",
    "sc=spark.sparkContext\n",
    "\n",
    "schema = StructType([ \\\n",
    "        StructField(\"DEVICE_CODE\", IntegerType(), True), \n",
    "        StructField(\"SYSTEM_ID\",IntegerType(),True), \\\n",
    "        StructField(\"ORIGINE_CAR_KEY\",StringType(),True), \\\n",
    "        StructField(\"FINAL_CAR_KEY\",StringType(),True), \\\n",
    "        StructField(\"CHECK_STATUS_KEY\", IntegerType(), True), \\\n",
    "        StructField(\"COMPANY_ID\", StringType(), True), \\\n",
    "        StructField(\"PASS_DAY_TIME\", TimestampType(), True)\n",
    "    ])"
   ]
  },
  {
   "cell_type": "code",
   "execution_count": 6,
   "metadata": {
    "colab": {
     "base_uri": "https://localhost:8080/"
    },
    "id": "cM04GaAHptTQ",
    "outputId": "b06907ab-5d89-49fa-e80e-192a2b7bb87f"
   },
   "outputs": [
    {
     "name": "stdout",
     "output_type": "stream",
     "text": [
      "+-----------+---------+---------------+-------------+----------------+----------+-------------------+\n",
      "|DEVICE_CODE|SYSTEM_ID|ORIGINE_CAR_KEY|FINAL_CAR_KEY|CHECK_STATUS_KEY|COMPANY_ID|      PASS_DAY_TIME|\n",
      "+-----------+---------+---------------+-------------+----------------+----------+-------------------+\n",
      "|     200501|       81|       10477885|     10477885|               5|       161|2021-06-01 03:54:39|\n",
      "+-----------+---------+---------------+-------------+----------------+----------+-------------------+\n",
      "only showing top 1 row\n",
      "\n"
     ]
    }
   ],
   "source": [
    "df=spark.read.csv('/content/drive/My Drive/Sample_Data/Sample_Traffic.csv',header=True,schema=schema)\n",
    "df.show(1)"
   ]
  },
  {
   "cell_type": "markdown",
   "metadata": {
    "id": "zMehFOYKTHHh"
   },
   "source": [
    "الف) مسیر عبوری هر خودرو را به تفکیک روز مشخص کنید "
   ]
  },
  {
   "cell_type": "code",
   "execution_count": 7,
   "metadata": {
    "colab": {
     "base_uri": "https://localhost:8080/"
    },
    "id": "F0IajBJvpwag",
    "outputId": "b2ee3695-6d49-406a-ba6b-7444ffafb20e"
   },
   "outputs": [
    {
     "data": {
      "text/plain": [
       "[(('35898300', datetime.date(2021, 6, 1)), [631795]),\n",
       " (('97890742', datetime.date(2021, 6, 1)), [631829]),\n",
       " (('27519912', datetime.date(2021, 6, 1)),\n",
       "  [145,\n",
       "   900107,\n",
       "   145,\n",
       "   202601,\n",
       "   22009977,\n",
       "   900134,\n",
       "   631368,\n",
       "   114,\n",
       "   114,\n",
       "   900142,\n",
       "   900236,\n",
       "   900132,\n",
       "   900108,\n",
       "   100700814,\n",
       "   22010119,\n",
       "   900107,\n",
       "   100700804,\n",
       "   900276,\n",
       "   900152,\n",
       "   100700834,\n",
       "   900164,\n",
       "   100701090,\n",
       "   900156,\n",
       "   900108,\n",
       "   100700824,\n",
       "   209102]),\n",
       " (('61880025', datetime.date(2021, 6, 1)), [631829]),\n",
       " (('60461263', datetime.date(2021, 6, 1)), [115]),\n",
       " (('8389415', datetime.date(2021, 6, 1)), [202101, 113, 145, 900101]),\n",
       " (('35458343', datetime.date(2021, 6, 1)),\n",
       "  [202101, 145, 113, 22009971, 200902, 102, 631832, 22009972, 900215]),\n",
       " (('12349968', datetime.date(2021, 6, 1)),\n",
       "  [205201, 100, 631832, 103002, 900269, 22009972, 900124, 900217, 900215]),\n",
       " (('13792945', datetime.date(2021, 6, 1)),\n",
       "  [631795, 900143, 900152, 900152, 900191]),\n",
       " (('8585601', datetime.date(2021, 6, 1)), [202601])]"
      ]
     },
     "execution_count": 7,
     "metadata": {},
     "output_type": "execute_result"
    }
   ],
   "source": [
    "df_mapped = df.rdd.map(lambda x: ((x['ORIGINE_CAR_KEY'], x['PASS_DAY_TIME'].date()), [x['DEVICE_CODE']]))\n",
    "df_mapped3 = df_mapped.reduceByKey(lambda a,b: a+b)\n",
    "df_mapped2 = df_mapped3.sample(False,0.1)\n",
    "df_mapped2.take(10)"
   ]
  },
  {
   "cell_type": "markdown",
   "metadata": {
    "id": "mJM7PdQzWEqf"
   },
   "source": [
    "ب)محاسبه شباهت کسینوسی بین یک مسیر فرضی و مسیر خودروها و گزارش پنج مسیر و خودرو با بیشترین شباهت  "
   ]
  },
  {
   "cell_type": "markdown",
   "metadata": {
    "id": "cbHOhldVXJ4f"
   },
   "source": [
    "برای یافتن فاصله‌ی کسینوسی به جای تشکیل بردار با طول هزار متشکل از مقادیر صفر و یک برای هر مسیر میتوان تعداد کدهای مشترک بین هر مسیر و مسیر فرضی را بدست آورد و سپس بر اندازه‌ی بردار مسیر پیشنهادی و همچنین اندازه‌ی مسیر هر خودرو تقسیم نمود.\n",
    " در این مساله خروجی این روش همان خروجی موردنظر یعنی شباهت کسینوسی خواهد بود و فقط بسیار ساده تر محاسبه می شود"
   ]
  },
  {
   "cell_type": "code",
   "execution_count": 45,
   "metadata": {
    "colab": {
     "base_uri": "https://localhost:8080/"
    },
    "id": "6w1EeXoSC6BH",
    "outputId": "7c3c6170-23c6-4ff3-d55a-8bdf55a3578f"
   },
   "outputs": [
    {
     "data": {
      "text/plain": [
       "[(('35898300', [631795]), 0.0),\n",
       " (('97890742', [631829]), 0.0),\n",
       " (('27519912',\n",
       "   [145,\n",
       "    900107,\n",
       "    145,\n",
       "    202601,\n",
       "    22009977,\n",
       "    900134,\n",
       "    631368,\n",
       "    114,\n",
       "    114,\n",
       "    900142,\n",
       "    900236,\n",
       "    900132,\n",
       "    900108,\n",
       "    100700814,\n",
       "    22010119,\n",
       "    900107,\n",
       "    100700804,\n",
       "    900276,\n",
       "    900152,\n",
       "    100700834,\n",
       "    900164,\n",
       "    100701090,\n",
       "    900156,\n",
       "    900108,\n",
       "    100700824,\n",
       "    209102]),\n",
       "  0.31008683647302115),\n",
       " (('61880025', [631829]), 0.0),\n",
       " (('60461263', [115]), 0.0),\n",
       " (('8389415', [202101, 113, 145, 900101]), 0.0),\n",
       " (('35458343',\n",
       "   [202101, 145, 113, 22009971, 200902, 102, 631832, 22009972, 900215]),\n",
       "  0.0),\n",
       " (('12349968',\n",
       "   [205201, 100, 631832, 103002, 900269, 22009972, 900124, 900217, 900215]),\n",
       "  0.0),\n",
       " (('13792945', [631795, 900143, 900152, 900152, 900191]), 0.0),\n",
       " (('8585601', [202601]), 0.0),\n",
       " (('9032461', [631832, 900269, 900185, 900276]), 0.0),\n",
       " (('13916077', [208601, 208602, 206701, 117, 135, 900135]), 0.0),\n",
       " (('21302934', [112]), 0.0),\n",
       " (('9263848',\n",
       "   [631829,\n",
       "    208602,\n",
       "    631825,\n",
       "    631758,\n",
       "    631758,\n",
       "    140,\n",
       "    100700868,\n",
       "    135,\n",
       "    135,\n",
       "    900155,\n",
       "    631832,\n",
       "    631791,\n",
       "    631791,\n",
       "    210602,\n",
       "    900255,\n",
       "    900207,\n",
       "    900269,\n",
       "    900246,\n",
       "    135,\n",
       "    900251,\n",
       "    232,\n",
       "    100700853,\n",
       "    900236,\n",
       "    209102]),\n",
       "  0.06454972243679027),\n",
       " (('8722644', [202601, 631795]), 0.0),\n",
       " (('10155526', [631357, 211301, 100700864]), 0.0),\n",
       " (('7989867', [203902, 900212, 900108, 200701, 103, 145, 202101]),\n",
       "  0.11952286093343936),\n",
       " (('98943105',\n",
       "   [631829,\n",
       "    631367,\n",
       "    631352,\n",
       "    900223,\n",
       "    631357,\n",
       "    900155,\n",
       "    100701068,\n",
       "    900234,\n",
       "    900246]),\n",
       "  0.0),\n",
       " (('39927127', [206602, 22009972, 100700845]), 0.0),\n",
       " (('12245061', [202601, 631370, 631776, 900242, 900241, 900236]),\n",
       "  0.12909944487358055)]"
      ]
     },
     "execution_count": 45,
     "metadata": {},
     "output_type": "execute_result"
    }
   ],
   "source": [
    "import math \n",
    "path = [900142,900236,900132,900108,100700814] #masire farzi\n",
    "lenPath = 10\n",
    "similarity_rdd = df_mapped2.map(lambda x: ((x[0][0], x[1]), len(list(set(path) & set(x[1])))/math.sqrt(len(x[1])*lenPath)))\n",
    "similarity_rdd.take(20)"
   ]
  },
  {
   "cell_type": "markdown",
   "metadata": {
    "id": "UL0d_hjAWDE4"
   },
   "source": [
    "پس از بدست آمدن مقادیر شباهت کسینوسی هر مسیر با مسیر فرضی ۵ مسیر و خودرو با بیشترین شباهت با مسیر فرضی را نمایش میدهیم"
   ]
  },
  {
   "cell_type": "code",
   "execution_count": 46,
   "metadata": {
    "colab": {
     "base_uri": "https://localhost:8080/"
    },
    "id": "Me6L4nH9HYHX",
    "outputId": "e43d4bc3-c013-4daa-8a58-4050ae2e9115"
   },
   "outputs": [
    {
     "data": {
      "text/plain": [
       "[(('8862590', [900132, 900142]), 0.4472135954999579),\n",
       " (('68151032', [100700814, 900108]), 0.4472135954999579),\n",
       " (('77627646', [900236, 900142]), 0.4472135954999579),\n",
       " (('10285799', [900236, 900142]), 0.4472135954999579),\n",
       " (('46037696', [900142, 900132]), 0.4472135954999579)]"
      ]
     },
     "execution_count": 46,
     "metadata": {},
     "output_type": "execute_result"
    }
   ],
   "source": [
    "similarPath = similarity_rdd.takeOrdered(5, key = lambda x: -x[1])\n",
    "similarPath"
   ]
  },
  {
   "cell_type": "markdown",
   "metadata": {
    "id": "ERvMx8klYR67"
   },
   "source": [
    "پ) با استفاده از روش ال اس اج بخش ب را حل کنید  و محاسبات مربوط به نحوه\n",
    "استفاده از آن ها را انجام دهید. سپس مسیر های مشابه با مسیر فرضی را گزارش کنید. در صورت افزایش تعداد هایپرپلین ها دقت به چه صورت افزایش می یابد."
   ]
  },
  {
   "cell_type": "markdown",
   "metadata": {},
   "source": [
    "برای یافتن بردارهای مشابه با بردار فرضی تعریف شده به کمک روش ال اس اچ، اول بردار دوربینهای مجزا را می سازیم. در این مسیله ابتدا تعداد توابع مین هش یعنی هایپرپلین ها را برابر با ۱۰۰ قرار میدهیم و در ادامه تغییرات را با دوبرابر کردنشان بررسی میکنیم. "
   ]
  },
  {
   "cell_type": "code",
   "execution_count": 8,
   "metadata": {
    "id": "tyUNcq3SH0r4"
   },
   "outputs": [],
   "source": [
    "allcamera = df_mapped2.flatMap(lambda line: line[1])\n",
    "allcameradist = allcamera.distinct().collect()\n",
    "sc.broadcast(allcameradist)"
   ]
  },
  {
   "cell_type": "markdown",
   "metadata": {
    "id": "Scye7eIAbNA5"
   },
   "source": [
    " برای یافتن بردار هش شده‌ی به طول ۱۰۰ از هر یک از مسیرها، بر اساس وجود اولین یک در هر یک از  جایگشت رندوم ایجاد شده در بالا، عمل می کنیم. در دو تابع زیر این فرآیند انجام میگیرد"
   ]
  },
  {
   "cell_type": "code",
   "execution_count": 47,
   "metadata": {
    "colab": {
     "base_uri": "https://localhost:8080/"
    },
    "id": "mcpl6kHMq4Fr",
    "outputId": "9cdc3d00-f0a7-4ea4-cdf0-3d8a4f67e132"
   },
   "outputs": [
    {
     "data": {
      "text/plain": [
       "[(('35898300', datetime.date(2021, 6, 1)),\n",
       "  [320,\n",
       "   320,\n",
       "   320,\n",
       "   320,\n",
       "   320,\n",
       "   320,\n",
       "   320,\n",
       "   320,\n",
       "   320,\n",
       "   320,\n",
       "   320,\n",
       "   320,\n",
       "   320,\n",
       "   320,\n",
       "   320,\n",
       "   320,\n",
       "   320,\n",
       "   320,\n",
       "   320,\n",
       "   320,\n",
       "   320,\n",
       "   320,\n",
       "   320,\n",
       "   320,\n",
       "   320,\n",
       "   320,\n",
       "   320,\n",
       "   320,\n",
       "   320,\n",
       "   320,\n",
       "   320,\n",
       "   320,\n",
       "   320,\n",
       "   320,\n",
       "   320,\n",
       "   320,\n",
       "   320,\n",
       "   320,\n",
       "   320,\n",
       "   320,\n",
       "   320,\n",
       "   320,\n",
       "   320,\n",
       "   320,\n",
       "   320,\n",
       "   320,\n",
       "   320,\n",
       "   320,\n",
       "   320,\n",
       "   320,\n",
       "   320,\n",
       "   320,\n",
       "   320,\n",
       "   320,\n",
       "   320,\n",
       "   320,\n",
       "   320,\n",
       "   320,\n",
       "   320,\n",
       "   320,\n",
       "   320,\n",
       "   320,\n",
       "   320,\n",
       "   320,\n",
       "   320,\n",
       "   320,\n",
       "   320,\n",
       "   320,\n",
       "   320,\n",
       "   320,\n",
       "   320,\n",
       "   320,\n",
       "   320,\n",
       "   320,\n",
       "   320,\n",
       "   320,\n",
       "   320,\n",
       "   320,\n",
       "   320,\n",
       "   320,\n",
       "   320,\n",
       "   320,\n",
       "   320,\n",
       "   320,\n",
       "   320,\n",
       "   320,\n",
       "   320,\n",
       "   320,\n",
       "   320,\n",
       "   320,\n",
       "   320,\n",
       "   320,\n",
       "   320,\n",
       "   320,\n",
       "   320,\n",
       "   320,\n",
       "   320,\n",
       "   320,\n",
       "   320,\n",
       "   320]),\n",
       " (('97890742', datetime.date(2021, 6, 1)),\n",
       "  [625,\n",
       "   625,\n",
       "   625,\n",
       "   625,\n",
       "   625,\n",
       "   625,\n",
       "   625,\n",
       "   625,\n",
       "   625,\n",
       "   625,\n",
       "   625,\n",
       "   625,\n",
       "   625,\n",
       "   625,\n",
       "   625,\n",
       "   625,\n",
       "   625,\n",
       "   625,\n",
       "   625,\n",
       "   625,\n",
       "   625,\n",
       "   625,\n",
       "   625,\n",
       "   625,\n",
       "   625,\n",
       "   625,\n",
       "   625,\n",
       "   625,\n",
       "   625,\n",
       "   625,\n",
       "   625,\n",
       "   625,\n",
       "   625,\n",
       "   625,\n",
       "   625,\n",
       "   625,\n",
       "   625,\n",
       "   625,\n",
       "   625,\n",
       "   625,\n",
       "   625,\n",
       "   625,\n",
       "   625,\n",
       "   625,\n",
       "   625,\n",
       "   625,\n",
       "   625,\n",
       "   625,\n",
       "   625,\n",
       "   625,\n",
       "   625,\n",
       "   625,\n",
       "   625,\n",
       "   625,\n",
       "   625,\n",
       "   625,\n",
       "   625,\n",
       "   625,\n",
       "   625,\n",
       "   625,\n",
       "   625,\n",
       "   625,\n",
       "   625,\n",
       "   625,\n",
       "   625,\n",
       "   625,\n",
       "   625,\n",
       "   625,\n",
       "   625,\n",
       "   625,\n",
       "   625,\n",
       "   625,\n",
       "   625,\n",
       "   625,\n",
       "   625,\n",
       "   625,\n",
       "   625,\n",
       "   625,\n",
       "   625,\n",
       "   625,\n",
       "   625,\n",
       "   625,\n",
       "   625,\n",
       "   625,\n",
       "   625,\n",
       "   625,\n",
       "   625,\n",
       "   625,\n",
       "   625,\n",
       "   625,\n",
       "   625,\n",
       "   625,\n",
       "   625,\n",
       "   625,\n",
       "   625,\n",
       "   625,\n",
       "   625,\n",
       "   625,\n",
       "   625,\n",
       "   625]),\n",
       " (('27519912', datetime.date(2021, 6, 1)),\n",
       "  [0,\n",
       "   626,\n",
       "   0,\n",
       "   321,\n",
       "   626,\n",
       "   0,\n",
       "   626,\n",
       "   0,\n",
       "   321,\n",
       "   626,\n",
       "   626,\n",
       "   0,\n",
       "   321,\n",
       "   626,\n",
       "   0,\n",
       "   321,\n",
       "   0,\n",
       "   321,\n",
       "   321,\n",
       "   321,\n",
       "   0,\n",
       "   626,\n",
       "   5,\n",
       "   0,\n",
       "   0,\n",
       "   0,\n",
       "   0,\n",
       "   626,\n",
       "   626,\n",
       "   0,\n",
       "   626,\n",
       "   321,\n",
       "   321,\n",
       "   626,\n",
       "   321,\n",
       "   321,\n",
       "   0,\n",
       "   321,\n",
       "   627,\n",
       "   8,\n",
       "   626,\n",
       "   321,\n",
       "   0,\n",
       "   0,\n",
       "   0,\n",
       "   0,\n",
       "   321,\n",
       "   321,\n",
       "   626,\n",
       "   321,\n",
       "   0,\n",
       "   321,\n",
       "   0,\n",
       "   0,\n",
       "   0,\n",
       "   626,\n",
       "   323,\n",
       "   321,\n",
       "   626,\n",
       "   321,\n",
       "   626,\n",
       "   321,\n",
       "   321,\n",
       "   0,\n",
       "   0,\n",
       "   626,\n",
       "   0,\n",
       "   626,\n",
       "   0,\n",
       "   321,\n",
       "   321,\n",
       "   626,\n",
       "   0,\n",
       "   626,\n",
       "   0,\n",
       "   0,\n",
       "   0,\n",
       "   626,\n",
       "   626,\n",
       "   2,\n",
       "   0,\n",
       "   626,\n",
       "   321,\n",
       "   321,\n",
       "   626,\n",
       "   321,\n",
       "   321,\n",
       "   0,\n",
       "   626,\n",
       "   0,\n",
       "   0,\n",
       "   627,\n",
       "   0,\n",
       "   321,\n",
       "   0,\n",
       "   321,\n",
       "   626,\n",
       "   626,\n",
       "   321,\n",
       "   626]),\n",
       " (('61880025', datetime.date(2021, 6, 1)),\n",
       "  [625,\n",
       "   625,\n",
       "   625,\n",
       "   625,\n",
       "   625,\n",
       "   625,\n",
       "   625,\n",
       "   625,\n",
       "   625,\n",
       "   625,\n",
       "   625,\n",
       "   625,\n",
       "   625,\n",
       "   625,\n",
       "   625,\n",
       "   625,\n",
       "   625,\n",
       "   625,\n",
       "   625,\n",
       "   625,\n",
       "   625,\n",
       "   625,\n",
       "   625,\n",
       "   625,\n",
       "   625,\n",
       "   625,\n",
       "   625,\n",
       "   625,\n",
       "   625,\n",
       "   625,\n",
       "   625,\n",
       "   625,\n",
       "   625,\n",
       "   625,\n",
       "   625,\n",
       "   625,\n",
       "   625,\n",
       "   625,\n",
       "   625,\n",
       "   625,\n",
       "   625,\n",
       "   625,\n",
       "   625,\n",
       "   625,\n",
       "   625,\n",
       "   625,\n",
       "   625,\n",
       "   625,\n",
       "   625,\n",
       "   625,\n",
       "   625,\n",
       "   625,\n",
       "   625,\n",
       "   625,\n",
       "   625,\n",
       "   625,\n",
       "   625,\n",
       "   625,\n",
       "   625,\n",
       "   625,\n",
       "   625,\n",
       "   625,\n",
       "   625,\n",
       "   625,\n",
       "   625,\n",
       "   625,\n",
       "   625,\n",
       "   625,\n",
       "   625,\n",
       "   625,\n",
       "   625,\n",
       "   625,\n",
       "   625,\n",
       "   625,\n",
       "   625,\n",
       "   625,\n",
       "   625,\n",
       "   625,\n",
       "   625,\n",
       "   625,\n",
       "   625,\n",
       "   625,\n",
       "   625,\n",
       "   625,\n",
       "   625,\n",
       "   625,\n",
       "   625,\n",
       "   625,\n",
       "   625,\n",
       "   625,\n",
       "   625,\n",
       "   625,\n",
       "   625,\n",
       "   625,\n",
       "   625,\n",
       "   625,\n",
       "   625,\n",
       "   625,\n",
       "   625,\n",
       "   625]),\n",
       " (('60461263', datetime.date(2021, 6, 1)),\n",
       "  [325,\n",
       "   325,\n",
       "   325,\n",
       "   325,\n",
       "   325,\n",
       "   325,\n",
       "   325,\n",
       "   325,\n",
       "   325,\n",
       "   325,\n",
       "   325,\n",
       "   325,\n",
       "   325,\n",
       "   325,\n",
       "   325,\n",
       "   325,\n",
       "   325,\n",
       "   325,\n",
       "   325,\n",
       "   325,\n",
       "   325,\n",
       "   325,\n",
       "   325,\n",
       "   325,\n",
       "   325,\n",
       "   325,\n",
       "   325,\n",
       "   325,\n",
       "   325,\n",
       "   325,\n",
       "   325,\n",
       "   325,\n",
       "   325,\n",
       "   325,\n",
       "   325,\n",
       "   325,\n",
       "   325,\n",
       "   325,\n",
       "   325,\n",
       "   325,\n",
       "   325,\n",
       "   325,\n",
       "   325,\n",
       "   325,\n",
       "   325,\n",
       "   325,\n",
       "   325,\n",
       "   325,\n",
       "   325,\n",
       "   325,\n",
       "   325,\n",
       "   325,\n",
       "   325,\n",
       "   325,\n",
       "   325,\n",
       "   325,\n",
       "   325,\n",
       "   325,\n",
       "   325,\n",
       "   325,\n",
       "   325,\n",
       "   325,\n",
       "   325,\n",
       "   325,\n",
       "   325,\n",
       "   325,\n",
       "   325,\n",
       "   325,\n",
       "   325,\n",
       "   325,\n",
       "   325,\n",
       "   325,\n",
       "   325,\n",
       "   325,\n",
       "   325,\n",
       "   325,\n",
       "   325,\n",
       "   325,\n",
       "   325,\n",
       "   325,\n",
       "   325,\n",
       "   325,\n",
       "   325,\n",
       "   325,\n",
       "   325,\n",
       "   325,\n",
       "   325,\n",
       "   325,\n",
       "   325,\n",
       "   325,\n",
       "   325,\n",
       "   325,\n",
       "   325,\n",
       "   325,\n",
       "   325,\n",
       "   325,\n",
       "   325,\n",
       "   325,\n",
       "   325,\n",
       "   325])]"
      ]
     },
     "execution_count": 47,
     "metadata": {},
     "output_type": "execute_result"
    }
   ],
   "source": [
    "def findplace(arr, start, size):\n",
    "  result = []\n",
    "  for x in arr:   \n",
    "    if(x >= start):\n",
    "      result.append( x - start)\n",
    "    else:\n",
    "      result.append( size - 1 - start + x)\n",
    "  return arr[result.index(min(result))]\n",
    "\n",
    "\n",
    "def minHashing(row):\n",
    "  x = row[1]\n",
    "  result = []\n",
    "  place = []\n",
    "  for j in range(len(x)):\n",
    "      place.append(allcameradist.index(x[j])) \n",
    "  for i in range(100):\n",
    "      result.append(findplace(place, random_start[i], len(allcameradist)))\n",
    "\n",
    "  return (row[0], result)\n",
    "\n",
    "import numpy as np\n",
    "random_start = list(np.random.randint(0,936, size=100))\n",
    "sc.broadcast(random_start)\n",
    "df_min_hashing = df_mapped2.map(minHashing)\n",
    "df_min_hashing.take(5)"
   ]
  },
  {
   "cell_type": "markdown",
   "metadata": {
    "id": "lle_RjhucIBY"
   },
   "source": [
    "همین کار را برای مسیر فرضیمان نیز انجام میدهیم و بردار هش شده به طول ۱۰۰ آن را بدست می‌آوریم"
   ]
  },
  {
   "cell_type": "code",
   "execution_count": 48,
   "metadata": {
    "colab": {
     "base_uri": "https://localhost:8080/"
    },
    "id": "Ydrtq6tw5m8v",
    "outputId": "1a66c4ad-93c7-4cf2-867d-4bd3057dbb7e"
   },
   "outputs": [
    {
     "data": {
      "text/plain": [
       "(0,\n",
       " [3,\n",
       "  629,\n",
       "  3,\n",
       "  322,\n",
       "  629,\n",
       "  3,\n",
       "  629,\n",
       "  3,\n",
       "  322,\n",
       "  629,\n",
       "  629,\n",
       "  3,\n",
       "  322,\n",
       "  629,\n",
       "  3,\n",
       "  322,\n",
       "  3,\n",
       "  322,\n",
       "  322,\n",
       "  322,\n",
       "  3,\n",
       "  629,\n",
       "  5,\n",
       "  3,\n",
       "  3,\n",
       "  3,\n",
       "  3,\n",
       "  629,\n",
       "  629,\n",
       "  3,\n",
       "  629,\n",
       "  322,\n",
       "  322,\n",
       "  629,\n",
       "  322,\n",
       "  322,\n",
       "  3,\n",
       "  322,\n",
       "  629,\n",
       "  322,\n",
       "  629,\n",
       "  322,\n",
       "  3,\n",
       "  3,\n",
       "  3,\n",
       "  3,\n",
       "  322,\n",
       "  322,\n",
       "  629,\n",
       "  322,\n",
       "  3,\n",
       "  322,\n",
       "  3,\n",
       "  3,\n",
       "  3,\n",
       "  629,\n",
       "  629,\n",
       "  322,\n",
       "  629,\n",
       "  322,\n",
       "  629,\n",
       "  322,\n",
       "  322,\n",
       "  3,\n",
       "  3,\n",
       "  629,\n",
       "  3,\n",
       "  629,\n",
       "  3,\n",
       "  322,\n",
       "  322,\n",
       "  629,\n",
       "  3,\n",
       "  629,\n",
       "  3,\n",
       "  3,\n",
       "  3,\n",
       "  629,\n",
       "  629,\n",
       "  3,\n",
       "  3,\n",
       "  629,\n",
       "  322,\n",
       "  322,\n",
       "  629,\n",
       "  322,\n",
       "  322,\n",
       "  3,\n",
       "  629,\n",
       "  3,\n",
       "  3,\n",
       "  629,\n",
       "  3,\n",
       "  322,\n",
       "  3,\n",
       "  322,\n",
       "  629,\n",
       "  629,\n",
       "  322,\n",
       "  629])"
      ]
     },
     "execution_count": 48,
     "metadata": {},
     "output_type": "execute_result"
    }
   ],
   "source": [
    "path = (0,[900142,900236,900132,900108,100700814])\n",
    "hashed_path = minHashing(path)\n",
    "hashed_path"
   ]
  },
  {
   "cell_type": "markdown",
   "metadata": {
    "id": "I1JnxO0qdFXk"
   },
   "source": [
    "پس از بدست آوردن بردار هش شده هر مسیر،‌هر ۲۰ سطر از سیگنچر هر مسیر را به کمک هش کردن به ۵ باکت مپ میکنیم پس در نهایت برای هر مسیر ۵ مقدار داریم که مقدار هر کدام نشاندهنده‌ی باکتی هست که به کمک هشینگ در آن قرار گرفته"
   ]
  },
  {
   "cell_type": "code",
   "execution_count": 50,
   "metadata": {
    "colab": {
     "base_uri": "https://localhost:8080/"
    },
    "id": "nthsZvEB7FGo",
    "outputId": "af6bfe6f-7365-4464-b7fb-d649416bc586"
   },
   "outputs": [
    {
     "data": {
      "text/plain": [
       "[(('35898300', datetime.date(2021, 6, 1)), [4, 4, 4, 4, 4]),\n",
       " (('97890742', datetime.date(2021, 6, 1)), [0, 0, 0, 0, 0]),\n",
       " (('27519912', datetime.date(2021, 6, 1)), [4, 4, 4, 2, 1]),\n",
       " (('61880025', datetime.date(2021, 6, 1)), [0, 0, 0, 0, 0]),\n",
       " (('60461263', datetime.date(2021, 6, 1)), [1, 1, 1, 1, 1]),\n",
       " (('8389415', datetime.date(2021, 6, 1)), [3, 3, 2, 1, 0]),\n",
       " (('35458343', datetime.date(2021, 6, 1)), [3, 3, 1, 1, 3]),\n",
       " (('12349968', datetime.date(2021, 6, 1)), [2, 2, 4, 1, 4]),\n",
       " (('13792945', datetime.date(2021, 6, 1)), [4, 3, 1, 2, 2]),\n",
       " (('8585601', datetime.date(2021, 6, 1)), [2, 2, 2, 2, 2])]"
      ]
     },
     "execution_count": 50,
     "metadata": {},
     "output_type": "execute_result"
    }
   ],
   "source": [
    "def LSH(x):\n",
    "  mhash = x[1]\n",
    "  result = list()\n",
    "  for i in range(5):\n",
    "    result.append(abs(hash(str(mhash[i*20:(i+1)*20]))) % 5)\n",
    "  return (x[0], result)\n",
    "df_lsh = df_min_hashing.map(LSH)\n",
    "df_lsh.take(10)"
   ]
  },
  {
   "cell_type": "markdown",
   "metadata": {
    "id": "FfwrEIgydysD"
   },
   "source": [
    "همین کار را برای مسیر فرضی نیز انجام میدهیم"
   ]
  },
  {
   "cell_type": "code",
   "execution_count": 51,
   "metadata": {
    "colab": {
     "base_uri": "https://localhost:8080/"
    },
    "id": "fzA6U1WGEKD3",
    "outputId": "6cfe7376-01e7-43ec-fdbf-d9e608ef0d11"
   },
   "outputs": [
    {
     "data": {
      "text/plain": [
       "[4, 3, 3, 0, 0]"
      ]
     },
     "execution_count": 51,
     "metadata": {},
     "output_type": "execute_result"
    }
   ],
   "source": [
    "path_LSH = LSH(hashed_path)[1]\n",
    "sc.broadcast(path_LSH)\n",
    "path_LSH"
   ]
  },
  {
   "cell_type": "markdown",
   "metadata": {
    "id": "1GcoUeJveQtT"
   },
   "source": [
    "پس از بدست آوردن باکت های هش هر مسیر آن را به دو صورت با باکت های هش مسیر فرضی \n",
    "مقایسه میکنیم\n",
    "\n",
    "\n",
    "1.   and\n",
    "2.   or with similarity score\n",
    "\n",
    "در خروجی زیر مقدار اول در مقدار هر مسیر خروجی حاصل برای اند و مقدار دوم خروجی اور و مقدار سوم تعداد باکت های یکسان تقسیم بر کل باکت ها میباشد\n"
   ]
  },
  {
   "cell_type": "code",
   "execution_count": 52,
   "metadata": {
    "colab": {
     "base_uri": "https://localhost:8080/"
    },
    "id": "S9OiLED5EuF2",
    "outputId": "26bf6c66-dcf6-47c1-e89a-fe33a10cad4b"
   },
   "outputs": [
    {
     "data": {
      "text/plain": [
       "[(('35898300', datetime.date(2021, 6, 1)),\n",
       "  ([4, 4, 4, 4, 4], False, True, 0.2)),\n",
       " (('97890742', datetime.date(2021, 6, 1)),\n",
       "  ([0, 0, 0, 0, 0], False, True, 0.4)),\n",
       " (('27519912', datetime.date(2021, 6, 1)),\n",
       "  ([4, 4, 4, 2, 1], False, True, 0.2)),\n",
       " (('61880025', datetime.date(2021, 6, 1)),\n",
       "  ([0, 0, 0, 0, 0], False, True, 0.4)),\n",
       " (('60461263', datetime.date(2021, 6, 1)),\n",
       "  ([1, 1, 1, 1, 1], False, False, 0.0)),\n",
       " (('8389415', datetime.date(2021, 6, 1)), ([3, 3, 2, 1, 0], False, True, 0.4)),\n",
       " (('35458343', datetime.date(2021, 6, 1)),\n",
       "  ([3, 3, 1, 1, 3], False, True, 0.2)),\n",
       " (('12349968', datetime.date(2021, 6, 1)),\n",
       "  ([2, 2, 4, 1, 4], False, False, 0.0)),\n",
       " (('13792945', datetime.date(2021, 6, 1)),\n",
       "  ([4, 3, 1, 2, 2], False, True, 0.4)),\n",
       " (('8585601', datetime.date(2021, 6, 1)),\n",
       "  ([2, 2, 2, 2, 2], False, False, 0.0))]"
      ]
     },
     "execution_count": 52,
     "metadata": {},
     "output_type": "execute_result"
    }
   ],
   "source": [
    "def check_similarity(x):\n",
    "  y = x[1]\n",
    "  orres = False\n",
    "  andres = True\n",
    "  sum = 0\n",
    "  for i in range(len(y)):\n",
    "    andres = andres and (path_LSH[i] == y[i])\n",
    "    orres = orres or (path_LSH[i] == y[i])\n",
    "    if(path_LSH[i] == y[i]):\n",
    "      sum += 1\n",
    "\n",
    "  return (x[0],(y,andres,orres,sum/len(y)))\n",
    "\n",
    "df_similarity_LSH = df_lsh.map(check_similarity)\n",
    "df_similarity_LSH.take(10)"
   ]
  },
  {
   "cell_type": "code",
   "execution_count": 53,
   "metadata": {
    "colab": {
     "base_uri": "https://localhost:8080/"
    },
    "id": "r5TA6t6XMhgr",
    "outputId": "fb79b814-2341-41f4-c926-9c3facd949c1"
   },
   "outputs": [
    {
     "data": {
      "text/plain": [
       "[(('76970054', datetime.date(2021, 6, 1)), ([4, 3, 3, 0, 0], True, True, 1.0)),\n",
       " (('14354488', datetime.date(2021, 6, 1)), ([4, 3, 3, 0, 0], True, True, 1.0)),\n",
       " (('11412024', datetime.date(2021, 6, 1)), ([4, 3, 3, 0, 0], True, True, 1.0)),\n",
       " (('68793673', datetime.date(2021, 6, 1)), ([4, 3, 3, 0, 0], True, True, 1.0)),\n",
       " (('19344028', datetime.date(2021, 6, 1)), ([4, 3, 3, 0, 0], True, True, 1.0)),\n",
       " (('8694323', datetime.date(2021, 6, 1)), ([4, 3, 3, 0, 0], True, True, 1.0)),\n",
       " (('64897682', datetime.date(2021, 6, 1)), ([4, 3, 3, 0, 0], True, True, 1.0)),\n",
       " (('21754488', datetime.date(2021, 6, 1)), ([4, 3, 3, 0, 0], True, True, 1.0)),\n",
       " (('23773172', datetime.date(2021, 6, 1)), ([4, 3, 3, 0, 0], True, True, 1.0)),\n",
       " (('26505927', datetime.date(2021, 6, 1)), ([4, 3, 3, 0, 0], True, True, 1.0)),\n",
       " (('25469095', datetime.date(2021, 6, 1)), ([4, 3, 3, 0, 0], True, True, 1.0)),\n",
       " (('25632866', datetime.date(2021, 6, 1)), ([4, 3, 3, 0, 0], True, True, 1.0)),\n",
       " (('12397776', datetime.date(2021, 6, 1)), ([4, 3, 3, 0, 0], True, True, 1.0)),\n",
       " (('81142863', datetime.date(2021, 6, 1)), ([4, 3, 3, 0, 0], True, True, 1.0)),\n",
       " (('9824719', datetime.date(2021, 6, 1)), ([4, 3, 3, 0, 0], True, True, 1.0)),\n",
       " (('86430328', datetime.date(2021, 6, 1)), ([4, 3, 3, 0, 0], True, True, 1.0)),\n",
       " (('52330369', datetime.date(2021, 6, 1)), ([4, 3, 3, 0, 0], True, True, 1.0)),\n",
       " (('88568749', datetime.date(2021, 6, 1)), ([4, 3, 3, 0, 0], True, True, 1.0)),\n",
       " (('10401309', datetime.date(2021, 6, 1)), ([4, 3, 3, 0, 0], True, True, 1.0)),\n",
       " (('61921353', datetime.date(2021, 6, 1)),\n",
       "  ([4, 3, 2, 0, 0], False, True, 0.8)),\n",
       " (('39553823', datetime.date(2021, 6, 1)),\n",
       "  ([4, 3, 3, 0, 2], False, True, 0.8)),\n",
       " (('63654988', datetime.date(2021, 6, 1)),\n",
       "  ([4, 4, 3, 0, 0], False, True, 0.8)),\n",
       " (('7881577', datetime.date(2021, 6, 1)), ([4, 3, 2, 0, 0], False, True, 0.8)),\n",
       " (('60602269', datetime.date(2021, 6, 1)),\n",
       "  ([4, 1, 3, 0, 0], False, True, 0.8)),\n",
       " (('10522678', datetime.date(2021, 6, 1)),\n",
       "  ([4, 3, 1, 0, 0], False, True, 0.8)),\n",
       " (('26981365', datetime.date(2021, 6, 1)),\n",
       "  ([2, 3, 3, 0, 0], False, True, 0.8)),\n",
       " (('82649213', datetime.date(2021, 6, 1)),\n",
       "  ([4, 3, 3, 0, 2], False, True, 0.8)),\n",
       " (('9149417', datetime.date(2021, 6, 1)), ([4, 3, 3, 4, 0], False, True, 0.8)),\n",
       " (('8092522', datetime.date(2021, 6, 1)), ([4, 3, 2, 0, 0], False, True, 0.8)),\n",
       " (('60587778', datetime.date(2021, 6, 1)),\n",
       "  ([4, 3, 0, 0, 0], False, True, 0.8)),\n",
       " (('8948113', datetime.date(2021, 6, 1)), ([4, 3, 1, 0, 0], False, True, 0.8)),\n",
       " (('31530275', datetime.date(2021, 6, 1)),\n",
       "  ([4, 3, 1, 0, 0], False, True, 0.8)),\n",
       " (('82750201', datetime.date(2021, 6, 1)),\n",
       "  ([4, 3, 3, 4, 0], False, True, 0.8)),\n",
       " (('17089683', datetime.date(2021, 6, 1)),\n",
       "  ([4, 3, 3, 0, 2], False, True, 0.8)),\n",
       " (('74062562', datetime.date(2021, 6, 1)),\n",
       "  ([4, 3, 2, 0, 0], False, True, 0.8)),\n",
       " (('76449161', datetime.date(2021, 6, 1)),\n",
       "  ([0, 3, 3, 0, 0], False, True, 0.8)),\n",
       " (('9198525', datetime.date(2021, 6, 1)), ([4, 3, 3, 1, 0], False, True, 0.8)),\n",
       " (('15062233', datetime.date(2021, 6, 1)),\n",
       "  ([4, 1, 3, 0, 0], False, True, 0.8)),\n",
       " (('23259317', datetime.date(2021, 6, 1)),\n",
       "  ([4, 3, 3, 0, 2], False, True, 0.8)),\n",
       " (('15511503', datetime.date(2021, 6, 1)),\n",
       "  ([4, 3, 2, 0, 0], False, True, 0.8))]"
      ]
     },
     "execution_count": 53,
     "metadata": {},
     "output_type": "execute_result"
    }
   ],
   "source": [
    "similar_or = df_similarity_LSH.takeOrdered(40, key = lambda x: -x[1][3])\n",
    "similar_or"
   ]
  },
  {
   "cell_type": "code",
   "execution_count": 54,
   "metadata": {
    "colab": {
     "base_uri": "https://localhost:8080/"
    },
    "id": "nZcNfwv6NFdh",
    "outputId": "cd7125ed-9070-43a2-d0da-95e6a4c928a3"
   },
   "outputs": [
    {
     "data": {
      "text/plain": [
       "[(('76970054', datetime.date(2021, 6, 1)), ([4, 3, 3, 0, 0], True, True, 1.0)),\n",
       " (('14354488', datetime.date(2021, 6, 1)), ([4, 3, 3, 0, 0], True, True, 1.0)),\n",
       " (('11412024', datetime.date(2021, 6, 1)), ([4, 3, 3, 0, 0], True, True, 1.0)),\n",
       " (('68793673', datetime.date(2021, 6, 1)), ([4, 3, 3, 0, 0], True, True, 1.0)),\n",
       " (('19344028', datetime.date(2021, 6, 1)), ([4, 3, 3, 0, 0], True, True, 1.0)),\n",
       " (('8694323', datetime.date(2021, 6, 1)), ([4, 3, 3, 0, 0], True, True, 1.0)),\n",
       " (('64897682', datetime.date(2021, 6, 1)), ([4, 3, 3, 0, 0], True, True, 1.0)),\n",
       " (('21754488', datetime.date(2021, 6, 1)), ([4, 3, 3, 0, 0], True, True, 1.0)),\n",
       " (('23773172', datetime.date(2021, 6, 1)), ([4, 3, 3, 0, 0], True, True, 1.0)),\n",
       " (('26505927', datetime.date(2021, 6, 1)), ([4, 3, 3, 0, 0], True, True, 1.0)),\n",
       " (('25469095', datetime.date(2021, 6, 1)), ([4, 3, 3, 0, 0], True, True, 1.0)),\n",
       " (('25632866', datetime.date(2021, 6, 1)), ([4, 3, 3, 0, 0], True, True, 1.0)),\n",
       " (('12397776', datetime.date(2021, 6, 1)), ([4, 3, 3, 0, 0], True, True, 1.0)),\n",
       " (('81142863', datetime.date(2021, 6, 1)), ([4, 3, 3, 0, 0], True, True, 1.0)),\n",
       " (('9824719', datetime.date(2021, 6, 1)), ([4, 3, 3, 0, 0], True, True, 1.0)),\n",
       " (('86430328', datetime.date(2021, 6, 1)), ([4, 3, 3, 0, 0], True, True, 1.0)),\n",
       " (('52330369', datetime.date(2021, 6, 1)), ([4, 3, 3, 0, 0], True, True, 1.0)),\n",
       " (('88568749', datetime.date(2021, 6, 1)), ([4, 3, 3, 0, 0], True, True, 1.0)),\n",
       " (('10401309', datetime.date(2021, 6, 1)), ([4, 3, 3, 0, 0], True, True, 1.0))]"
      ]
     },
     "execution_count": 54,
     "metadata": {},
     "output_type": "execute_result"
    }
   ],
   "source": [
    "andtrue = df_similarity_LSH.filter(lambda x: x[1][1] == True)\n",
    "andtrue.collect()"
   ]
  },
  {
   "cell_type": "markdown",
   "metadata": {
    "id": "sGff8deKgNKr"
   },
   "source": [
    "حال همین کار را با تعداد هایپر پلین های ۲۰۰  انجام میدهیم\n"
   ]
  },
  {
   "cell_type": "code",
   "execution_count": 61,
   "metadata": {
    "colab": {
     "base_uri": "https://localhost:8080/"
    },
    "id": "370cP14ugVy9",
    "outputId": "3383fd27-c11f-4693-c9fa-42d2060cc02d"
   },
   "outputs": [
    {
     "data": {
      "text/plain": [
       "[(('35898300', datetime.date(2021, 6, 1)),\n",
       "  ([4, 4, 4, 4, 4, 4, 4, 4, 4, 4], False, True, 0.2)),\n",
       " (('97890742', datetime.date(2021, 6, 1)),\n",
       "  ([0, 0, 0, 0, 0, 0, 0, 0, 0, 0], False, True, 0.2)),\n",
       " (('27519912', datetime.date(2021, 6, 1)),\n",
       "  ([3, 0, 0, 2, 2, 0, 2, 2, 2, 2], False, True, 0.2)),\n",
       " (('61880025', datetime.date(2021, 6, 1)),\n",
       "  ([0, 0, 0, 0, 0, 0, 0, 0, 0, 0], False, True, 0.2)),\n",
       " (('60461263', datetime.date(2021, 6, 1)),\n",
       "  ([1, 1, 1, 1, 1, 1, 1, 1, 1, 1], False, False, 0.0)),\n",
       " (('8389415', datetime.date(2021, 6, 1)),\n",
       "  ([2, 4, 2, 1, 4, 4, 4, 1, 2, 4], False, True, 0.1)),\n",
       " (('35458343', datetime.date(2021, 6, 1)),\n",
       "  ([1, 4, 2, 0, 4, 4, 4, 1, 2, 4], False, True, 0.1)),\n",
       " (('12349968', datetime.date(2021, 6, 1)),\n",
       "  ([3, 0, 1, 0, 4, 0, 0, 2, 1, 4], False, True, 0.4)),\n",
       " (('13792945', datetime.date(2021, 6, 1)),\n",
       "  ([0, 0, 4, 0, 3, 4, 1, 2, 0, 2], False, True, 0.1)),\n",
       " (('8585601', datetime.date(2021, 6, 1)),\n",
       "  ([2, 2, 2, 2, 2, 2, 2, 2, 2, 2], False, True, 0.1))]"
      ]
     },
     "execution_count": 61,
     "metadata": {},
     "output_type": "execute_result"
    }
   ],
   "source": [
    "random_start200 = list(np.random.randint(0,936, size=200))\n",
    "sc.broadcast(random_start200)\n",
    "\n",
    "def findplace(arr, start, size):\n",
    "  result = []\n",
    "  for x in arr:   \n",
    "    if(x >= start):\n",
    "      result.append( x - start)\n",
    "    else:\n",
    "      result.append( size - 1 - start + x)\n",
    "  return arr[result.index(min(result))]\n",
    "\n",
    "\n",
    "def minHashing2(row):\n",
    "  x = row[1]\n",
    "  result = []\n",
    "  place = []\n",
    "  for j in range(len(x)):\n",
    "      place.append(allcameradist.index(x[j])) \n",
    "  for i in range(200):\n",
    "      result.append(findplace(place, random_start200[i], len(allcameradist)))\n",
    "\n",
    "  return (row[0], result)\n",
    "\n",
    "df_min_hashing2 = df_mapped2.map(minHashing2)\n",
    "\n",
    "hashed_path2 = minHashing2(path)\n",
    "\n",
    "def LSH2(x):\n",
    "  mhash = x[1]\n",
    "  result = list()\n",
    "  for i in range(10):\n",
    "    result.append(abs(hash(str(mhash[i*20:(i+1)*20]))) % 5)\n",
    "  return (x[0], result)\n",
    "\n",
    "\n",
    "df_lsh2 = df_min_hashing2.map(LSH2)\n",
    "df_lsh2.take(10)\n",
    "\n",
    "path_LSH2 = LSH2(hashed_path2)[1]\n",
    "sc.broadcast(path_LSH2)\n",
    "\n",
    "def check_similarity(x):\n",
    "  y = x[1]\n",
    "  orres = False\n",
    "  andres = True\n",
    "  sum = 0\n",
    "  for i in range(len(y)):\n",
    "    andres = andres and (path_LSH2[i] == y[i])\n",
    "    orres = orres or (path_LSH2[i] == y[i])\n",
    "    if(path_LSH2[i] == y[i]):\n",
    "      sum += 1\n",
    "\n",
    "  return (x[0],(y,andres,orres,sum/len(y)))\n",
    "\n",
    "df_similarity_LSH2 = df_lsh2.map(check_similarity)\n",
    "df_similarity_LSH2.take(10)"
   ]
  },
  {
   "cell_type": "code",
   "execution_count": 63,
   "metadata": {
    "colab": {
     "base_uri": "https://localhost:8080/"
    },
    "id": "QFuTTu8-ibag",
    "outputId": "554cdf35-0f3f-44f9-f263-444c03d02ebc"
   },
   "outputs": [
    {
     "data": {
      "text/plain": [
       "[(('9525774', datetime.date(2021, 6, 1)),\n",
       "  ([3, 2, 4, 3, 3, 1, 0, 3, 4, 4], False, True, 0.8)),\n",
       " (('90923203', datetime.date(2021, 6, 1)),\n",
       "  ([3, 0, 3, 3, 3, 4, 0, 3, 4, 4], False, True, 0.8)),\n",
       " (('9457910', datetime.date(2021, 6, 1)),\n",
       "  ([3, 3, 3, 3, 3, 0, 0, 3, 3, 4], False, True, 0.8)),\n",
       " (('98666508', datetime.date(2021, 6, 1)),\n",
       "  ([3, 0, 3, 3, 3, 4, 0, 3, 4, 4], False, True, 0.8)),\n",
       " (('40566254', datetime.date(2021, 6, 1)),\n",
       "  ([3, 0, 3, 3, 3, 4, 0, 3, 4, 4], False, True, 0.8)),\n",
       " (('97844749', datetime.date(2021, 6, 1)),\n",
       "  ([3, 2, 3, 2, 3, 3, 0, 3, 4, 4], False, True, 0.8)),\n",
       " (('54397550', datetime.date(2021, 6, 1)),\n",
       "  ([3, 0, 3, 3, 3, 4, 0, 3, 4, 4], False, True, 0.8)),\n",
       " (('57626967', datetime.date(2021, 6, 1)),\n",
       "  ([3, 0, 3, 3, 3, 4, 0, 3, 4, 4], False, True, 0.8)),\n",
       " (('10478887', datetime.date(2021, 6, 1)),\n",
       "  ([3, 2, 3, 3, 3, 0, 0, 1, 0, 4], False, True, 0.8)),\n",
       " (('10092844', datetime.date(2021, 6, 1)),\n",
       "  ([3, 0, 3, 3, 3, 4, 0, 3, 4, 4], False, True, 0.8)),\n",
       " (('9930822', datetime.date(2021, 6, 1)),\n",
       "  ([1, 2, 3, 3, 3, 0, 0, 3, 4, 3], False, True, 0.8)),\n",
       " (('67731541', datetime.date(2021, 6, 1)),\n",
       "  ([3, 0, 3, 3, 3, 4, 0, 3, 4, 4], False, True, 0.8)),\n",
       " (('21117509', datetime.date(2021, 6, 1)),\n",
       "  ([3, 0, 3, 3, 3, 4, 0, 3, 4, 4], False, True, 0.8)),\n",
       " (('84799311', datetime.date(2021, 6, 1)),\n",
       "  ([3, 0, 3, 3, 3, 4, 0, 3, 4, 4], False, True, 0.8)),\n",
       " (('8332415', datetime.date(2021, 6, 1)),\n",
       "  ([3, 1, 3, 0, 3, 0, 0, 3, 4, 1], False, True, 0.7)),\n",
       " (('10758765', datetime.date(2021, 6, 1)),\n",
       "  ([3, 2, 3, 4, 3, 1, 0, 3, 4, 2], False, True, 0.7)),\n",
       " (('9555542', datetime.date(2021, 6, 1)),\n",
       "  ([3, 1, 1, 3, 3, 0, 0, 3, 0, 4], False, True, 0.7)),\n",
       " (('17937729', datetime.date(2021, 6, 1)),\n",
       "  ([3, 2, 2, 3, 3, 0, 3, 3, 4, 3], False, True, 0.7)),\n",
       " (('16415350', datetime.date(2021, 6, 1)),\n",
       "  ([3, 0, 3, 3, 3, 3, 1, 3, 4, 4], False, True, 0.7)),\n",
       " (('33090242', datetime.date(2021, 6, 1)),\n",
       "  ([3, 1, 1, 3, 3, 0, 0, 3, 0, 4], False, True, 0.7)),\n",
       " (('12937913', datetime.date(2021, 6, 1)),\n",
       "  ([3, 3, 3, 1, 3, 0, 0, 3, 1, 4], False, True, 0.7)),\n",
       " (('8043523', datetime.date(2021, 6, 1)),\n",
       "  ([2, 2, 3, 3, 1, 0, 0, 3, 4, 1], False, True, 0.7)),\n",
       " (('10678190', datetime.date(2021, 6, 1)),\n",
       "  ([3, 2, 2, 4, 4, 0, 0, 3, 4, 4], False, True, 0.7)),\n",
       " (('94559973', datetime.date(2021, 6, 1)),\n",
       "  ([3, 2, 4, 3, 3, 2, 0, 0, 4, 4], False, True, 0.7)),\n",
       " (('57526553', datetime.date(2021, 6, 1)),\n",
       "  ([3, 3, 3, 1, 3, 0, 0, 3, 1, 4], False, True, 0.7)),\n",
       " (('10116516', datetime.date(2021, 6, 1)),\n",
       "  ([3, 1, 1, 3, 3, 0, 0, 3, 0, 4], False, True, 0.7)),\n",
       " (('9237239', datetime.date(2021, 6, 1)),\n",
       "  ([3, 2, 2, 3, 3, 0, 0, 1, 2, 4], False, True, 0.7)),\n",
       " (('62435753', datetime.date(2021, 6, 1)),\n",
       "  ([3, 3, 3, 1, 3, 0, 0, 3, 1, 4], False, True, 0.7)),\n",
       " (('88285162', datetime.date(2021, 6, 1)),\n",
       "  ([3, 2, 3, 3, 3, 1, 2, 2, 4, 4], False, True, 0.7)),\n",
       " (('13737315', datetime.date(2021, 6, 1)),\n",
       "  ([2, 2, 4, 3, 0, 0, 0, 3, 4, 4], False, True, 0.7)),\n",
       " (('20093618', datetime.date(2021, 6, 1)),\n",
       "  ([3, 2, 4, 3, 0, 0, 0, 3, 4, 2], False, True, 0.7)),\n",
       " (('42553917', datetime.date(2021, 6, 1)),\n",
       "  ([3, 3, 3, 1, 3, 0, 0, 3, 1, 4], False, True, 0.7)),\n",
       " (('89175409', datetime.date(2021, 6, 1)),\n",
       "  ([3, 2, 4, 1, 3, 0, 0, 3, 2, 4], False, True, 0.7)),\n",
       " (('7911196', datetime.date(2021, 6, 1)),\n",
       "  ([3, 2, 1, 3, 3, 0, 1, 3, 4, 0], False, True, 0.7)),\n",
       " (('87859809', datetime.date(2021, 6, 1)),\n",
       "  ([3, 3, 3, 1, 3, 0, 0, 3, 1, 4], False, True, 0.7)),\n",
       " (('8615057', datetime.date(2021, 6, 1)),\n",
       "  ([3, 2, 3, 3, 3, 0, 4, 0, 0, 4], False, True, 0.7)),\n",
       " (('7708969', datetime.date(2021, 6, 1)),\n",
       "  ([3, 3, 3, 1, 3, 0, 0, 3, 1, 4], False, True, 0.7)),\n",
       " (('97969082', datetime.date(2021, 6, 1)),\n",
       "  ([3, 2, 3, 3, 3, 0, 0, 0, 0, 0], False, True, 0.7)),\n",
       " (('38778204', datetime.date(2021, 6, 1)),\n",
       "  ([3, 3, 3, 1, 3, 0, 0, 3, 1, 4], False, True, 0.7)),\n",
       " (('99524832', datetime.date(2021, 6, 1)),\n",
       "  ([3, 3, 3, 1, 3, 0, 0, 3, 1, 4], False, True, 0.7))]"
      ]
     },
     "execution_count": 63,
     "metadata": {},
     "output_type": "execute_result"
    }
   ],
   "source": [
    "similar_or2 = df_similarity_LSH2.takeOrdered(40, key = lambda x: -x[1][3])\n",
    "similar_or2"
   ]
  },
  {
   "cell_type": "markdown",
   "metadata": {
    "id": "d1zJhX9IiiAg"
   },
   "source": [
    "بنظر می رسد با افزایش تعداد هایپر پلین ها، دقت به صورت نمایی بهتر شده است  "
   ]
  },
  {
   "cell_type": "code",
   "execution_count": null,
   "metadata": {
    "id": "5_iJ3qH7jOrS"
   },
   "outputs": [],
   "source": []
  }
 ],
 "metadata": {
  "colab": {
   "collapsed_sections": [],
   "name": "HW4.ipynb",
   "provenance": []
  },
  "kernelspec": {
   "display_name": "Python 3",
   "language": "python",
   "name": "python3"
  },
  "language_info": {
   "codemirror_mode": {
    "name": "ipython",
    "version": 3
   },
   "file_extension": ".py",
   "mimetype": "text/x-python",
   "name": "python",
   "nbconvert_exporter": "python",
   "pygments_lexer": "ipython3",
   "version": "3.7.6"
  }
 },
 "nbformat": 4,
 "nbformat_minor": 1
}
