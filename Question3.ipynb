{
  "cells": [
    {
      "cell_type": "markdown",
      "metadata": {
        "id": "view-in-github",
        "colab_type": "text"
      },
      "source": [
        "<a href=\"https://colab.research.google.com/github/zahraDehghanian97/LSH_Spark/blob/master/Question3.ipynb\" target=\"_parent\"><img src=\"https://colab.research.google.com/assets/colab-badge.svg\" alt=\"Open In Colab\"/></a>"
      ]
    },
    {
      "cell_type": "markdown",
      "metadata": {
        "id": "s2ohp92_jZPN"
      },
      "source": [
        "# تمرین سری سوم درس پردازش داده های حجیم\n",
        "# زهرا دهقانیان\n",
        "# 401300417\n",
        "\n",
        "\n"
      ]
    },
    {
      "cell_type": "code",
      "execution_count": 1,
      "metadata": {
        "colab": {
          "base_uri": "https://localhost:8080/"
        },
        "id": "sDLhCkjnkLXx",
        "outputId": "97c0e80d-a55b-4289-a050-1bd15aa68c05"
      },
      "outputs": [
        {
          "output_type": "stream",
          "name": "stdout",
          "text": [
            "Looking in indexes: https://pypi.org/simple, https://us-python.pkg.dev/colab-wheels/public/simple/\n",
            "Collecting pyspark\n",
            "  Downloading pyspark-3.3.1.tar.gz (281.4 MB)\n",
            "\u001b[2K     \u001b[90m━━━━━━━━━━━━━━━━━━━━━━━━━━━━━━━━━━━━━━━\u001b[0m \u001b[32m281.4/281.4 MB\u001b[0m \u001b[31m4.1 MB/s\u001b[0m eta \u001b[36m0:00:00\u001b[0m\n",
            "\u001b[?25h  Preparing metadata (setup.py) ... \u001b[?25l\u001b[?25hdone\n",
            "Collecting py4j==0.10.9.5\n",
            "  Downloading py4j-0.10.9.5-py2.py3-none-any.whl (199 kB)\n",
            "\u001b[2K     \u001b[90m━━━━━━━━━━━━━━━━━━━━━━━━━━━━━━━━━━━━━━\u001b[0m \u001b[32m199.7/199.7 KB\u001b[0m \u001b[31m16.8 MB/s\u001b[0m eta \u001b[36m0:00:00\u001b[0m\n",
            "\u001b[?25hBuilding wheels for collected packages: pyspark\n",
            "  Building wheel for pyspark (setup.py) ... \u001b[?25l\u001b[?25hdone\n",
            "  Created wheel for pyspark: filename=pyspark-3.3.1-py2.py3-none-any.whl size=281845512 sha256=f39bd88097f5d41477ddf9f19ca96a0313faba1ccabec6aa0c3bc92d914cc710\n",
            "  Stored in directory: /root/.cache/pip/wheels/43/dc/11/ec201cd671da62fa9c5cc77078235e40722170ceba231d7598\n",
            "Successfully built pyspark\n",
            "Installing collected packages: py4j, pyspark\n",
            "Successfully installed py4j-0.10.9.5 pyspark-3.3.1\n",
            "The following package was automatically installed and is no longer required:\n",
            "  libnvidia-common-460\n",
            "Use 'apt autoremove' to remove it.\n",
            "The following additional packages will be installed:\n",
            "  openjdk-8-jre-headless\n",
            "Suggested packages:\n",
            "  openjdk-8-demo openjdk-8-source libnss-mdns fonts-dejavu-extra\n",
            "  fonts-ipafont-gothic fonts-ipafont-mincho fonts-wqy-microhei\n",
            "  fonts-wqy-zenhei fonts-indic\n",
            "The following NEW packages will be installed:\n",
            "  openjdk-8-jdk-headless openjdk-8-jre-headless\n",
            "0 upgraded, 2 newly installed, 0 to remove and 21 not upgraded.\n",
            "Need to get 36.6 MB of archives.\n",
            "After this operation, 143 MB of additional disk space will be used.\n",
            "Selecting previously unselected package openjdk-8-jre-headless:amd64.\n",
            "(Reading database ... 124016 files and directories currently installed.)\n",
            "Preparing to unpack .../openjdk-8-jre-headless_8u352-ga-1~18.04_amd64.deb ...\n",
            "Unpacking openjdk-8-jre-headless:amd64 (8u352-ga-1~18.04) ...\n",
            "Selecting previously unselected package openjdk-8-jdk-headless:amd64.\n",
            "Preparing to unpack .../openjdk-8-jdk-headless_8u352-ga-1~18.04_amd64.deb ...\n",
            "Unpacking openjdk-8-jdk-headless:amd64 (8u352-ga-1~18.04) ...\n",
            "Setting up openjdk-8-jre-headless:amd64 (8u352-ga-1~18.04) ...\n",
            "update-alternatives: using /usr/lib/jvm/java-8-openjdk-amd64/jre/bin/orbd to provide /usr/bin/orbd (orbd) in auto mode\n",
            "update-alternatives: using /usr/lib/jvm/java-8-openjdk-amd64/jre/bin/servertool to provide /usr/bin/servertool (servertool) in auto mode\n",
            "update-alternatives: using /usr/lib/jvm/java-8-openjdk-amd64/jre/bin/tnameserv to provide /usr/bin/tnameserv (tnameserv) in auto mode\n",
            "Setting up openjdk-8-jdk-headless:amd64 (8u352-ga-1~18.04) ...\n",
            "update-alternatives: using /usr/lib/jvm/java-8-openjdk-amd64/bin/idlj to provide /usr/bin/idlj (idlj) in auto mode\n",
            "update-alternatives: using /usr/lib/jvm/java-8-openjdk-amd64/bin/wsimport to provide /usr/bin/wsimport (wsimport) in auto mode\n",
            "update-alternatives: using /usr/lib/jvm/java-8-openjdk-amd64/bin/jsadebugd to provide /usr/bin/jsadebugd (jsadebugd) in auto mode\n",
            "update-alternatives: using /usr/lib/jvm/java-8-openjdk-amd64/bin/native2ascii to provide /usr/bin/native2ascii (native2ascii) in auto mode\n",
            "update-alternatives: using /usr/lib/jvm/java-8-openjdk-amd64/bin/javah to provide /usr/bin/javah (javah) in auto mode\n",
            "update-alternatives: using /usr/lib/jvm/java-8-openjdk-amd64/bin/clhsdb to provide /usr/bin/clhsdb (clhsdb) in auto mode\n",
            "update-alternatives: using /usr/lib/jvm/java-8-openjdk-amd64/bin/xjc to provide /usr/bin/xjc (xjc) in auto mode\n",
            "update-alternatives: using /usr/lib/jvm/java-8-openjdk-amd64/bin/hsdb to provide /usr/bin/hsdb (hsdb) in auto mode\n",
            "update-alternatives: using /usr/lib/jvm/java-8-openjdk-amd64/bin/schemagen to provide /usr/bin/schemagen (schemagen) in auto mode\n",
            "update-alternatives: using /usr/lib/jvm/java-8-openjdk-amd64/bin/extcheck to provide /usr/bin/extcheck (extcheck) in auto mode\n",
            "update-alternatives: using /usr/lib/jvm/java-8-openjdk-amd64/bin/jhat to provide /usr/bin/jhat (jhat) in auto mode\n",
            "update-alternatives: using /usr/lib/jvm/java-8-openjdk-amd64/bin/wsgen to provide /usr/bin/wsgen (wsgen) in auto mode\n"
          ]
        }
      ],
      "source": [
        "!pip install pyspark\n",
        "!pip install -U -q PyDrive\n",
        "!apt install openjdk-8-jdk-headless -qq --fix-missing\n",
        "import os\n",
        "os.environ[\"JAVA_HOME\"] = \"/usr/lib/jvm/java-8-openjdk-amd64\""
      ]
    },
    {
      "cell_type": "code",
      "execution_count": 2,
      "metadata": {
        "colab": {
          "base_uri": "https://localhost:8080/"
        },
        "id": "B5Ym1HcBoFTB",
        "outputId": "d6916149-69eb-480c-89b8-773b1327058b"
      },
      "outputs": [
        {
          "output_type": "stream",
          "name": "stdout",
          "text": [
            "\r0% [Working]\r            \rGet:1 https://cloud.r-project.org/bin/linux/ubuntu bionic-cran40/ InRelease [3,626 B]\n",
            "\r0% [Connecting to archive.ubuntu.com (185.125.190.36)] [Connecting to security.\r0% [Connecting to archive.ubuntu.com (185.125.190.36)] [Connecting to security.\r0% [1 InRelease gpgv 3,626 B] [Connecting to archive.ubuntu.com (185.125.190.36\r                                                                               \rIgn:2 https://developer.download.nvidia.com/compute/machine-learning/repos/ubuntu1804/x86_64  InRelease\n",
            "\r0% [1 InRelease gpgv 3,626 B] [Connecting to archive.ubuntu.com (185.125.190.36\r                                                                               \rHit:3 https://developer.download.nvidia.com/compute/cuda/repos/ubuntu1804/x86_64  InRelease\n",
            "Hit:4 https://developer.download.nvidia.com/compute/machine-learning/repos/ubuntu1804/x86_64  Release\n",
            "Hit:5 http://ppa.launchpad.net/c2d4u.team/c2d4u4.0+/ubuntu bionic InRelease\n",
            "Hit:6 http://archive.ubuntu.com/ubuntu bionic InRelease\n",
            "Get:7 http://security.ubuntu.com/ubuntu bionic-security InRelease [88.7 kB]\n",
            "Get:8 http://archive.ubuntu.com/ubuntu bionic-updates InRelease [88.7 kB]\n",
            "Hit:9 http://ppa.launchpad.net/cran/libgit2/ubuntu bionic InRelease\n",
            "Hit:11 http://ppa.launchpad.net/deadsnakes/ppa/ubuntu bionic InRelease\n",
            "Get:12 http://archive.ubuntu.com/ubuntu bionic-backports InRelease [83.3 kB]\n",
            "Hit:13 http://ppa.launchpad.net/graphics-drivers/ppa/ubuntu bionic InRelease\n",
            "Get:14 http://security.ubuntu.com/ubuntu bionic-security/main amd64 Packages [3,129 kB]\n",
            "Get:15 http://archive.ubuntu.com/ubuntu bionic-updates/universe amd64 Packages [2,348 kB]\n",
            "Get:16 http://security.ubuntu.com/ubuntu bionic-security/restricted amd64 Packages [1,351 kB]\n",
            "Get:17 http://security.ubuntu.com/ubuntu bionic-security/universe amd64 Packages [1,573 kB]\n",
            "Get:18 http://archive.ubuntu.com/ubuntu bionic-updates/main amd64 Packages [3,552 kB]\n",
            "Get:19 http://archive.ubuntu.com/ubuntu bionic-updates/restricted amd64 Packages [1,392 kB]\n",
            "Fetched 13.6 MB in 4s (3,113 kB/s)\n",
            "Reading package lists... Done\n"
          ]
        }
      ],
      "source": [
        "!apt-get update"
      ]
    },
    {
      "cell_type": "code",
      "execution_count": 4,
      "metadata": {
        "colab": {
          "base_uri": "https://localhost:8080/"
        },
        "id": "Gu7YwC_xoQFH",
        "outputId": "3088a74c-9533-4bb9-c453-62d594fbae51"
      },
      "outputs": [
        {
          "output_type": "stream",
          "name": "stdout",
          "text": [
            "Mounted at /content/drive\n"
          ]
        }
      ],
      "source": [
        "from google.colab import drive\n",
        "# This will prompt for authorization.\n",
        "drive.mount('/content/drive')"
      ]
    },
    {
      "cell_type": "code",
      "execution_count": 5,
      "metadata": {
        "id": "uUV0tLJtpiVw"
      },
      "outputs": [],
      "source": [
        "from pyspark import SparkContext, SparkConf \n",
        "from pyspark.sql import SparkSession\n",
        "from pyspark.sql.types import StructType,StructField, StringType, IntegerType,TimestampType\n",
        "from pyspark.sql.functions import col,current_timestamp,to_date,hour,dayofweek\n",
        "spark = SparkSession \\\n",
        "    .builder \\\n",
        "    .appName(\"Fave_Project\") \\\n",
        "    .master(\"local[*]\") \\\n",
        "    .getOrCreate()\n",
        "\n",
        "sc=spark.sparkContext\n",
        "\n",
        "schema = StructType([ \\\n",
        "        StructField(\"DEVICE_CODE\", IntegerType(), True), \n",
        "        StructField(\"SYSTEM_ID\",IntegerType(),True), \\\n",
        "        StructField(\"ORIGINE_CAR_KEY\",StringType(),True), \\\n",
        "        StructField(\"FINAL_CAR_KEY\",StringType(),True), \\\n",
        "        StructField(\"CHECK_STATUS_KEY\", IntegerType(), True), \\\n",
        "        StructField(\"COMPANY_ID\", StringType(), True), \\\n",
        "        StructField(\"PASS_DAY_TIME\", TimestampType(), True)\n",
        "    ])"
      ]
    },
    {
      "cell_type": "code",
      "execution_count": 7,
      "metadata": {
        "colab": {
          "base_uri": "https://localhost:8080/"
        },
        "id": "cM04GaAHptTQ",
        "outputId": "a1dcd002-72e6-4870-bc3a-7810941c95e6"
      },
      "outputs": [
        {
          "output_type": "stream",
          "name": "stdout",
          "text": [
            "+-----------+---------+---------------+-------------+----------------+----------+-------------------+\n",
            "|DEVICE_CODE|SYSTEM_ID|ORIGINE_CAR_KEY|FINAL_CAR_KEY|CHECK_STATUS_KEY|COMPANY_ID|      PASS_DAY_TIME|\n",
            "+-----------+---------+---------------+-------------+----------------+----------+-------------------+\n",
            "|  100700853|      283|        9016704|      9016704|               5|       264|2022-01-08 00:00:39|\n",
            "+-----------+---------+---------------+-------------+----------------+----------+-------------------+\n",
            "only showing top 1 row\n",
            "\n"
          ]
        }
      ],
      "source": [
        "df=spark.read.csv('/content/drive/MyDrive/SampleData.csv',header=True,schema=schema)\n",
        "df.show(1)"
      ]
    },
    {
      "cell_type": "markdown",
      "metadata": {
        "id": "zMehFOYKTHHh"
      },
      "source": [
        "الف) مسیر عبوری هر خودرو را به تفکیک روز مشخص کنید "
      ]
    },
    {
      "cell_type": "code",
      "execution_count": 8,
      "metadata": {
        "colab": {
          "base_uri": "https://localhost:8080/"
        },
        "id": "F0IajBJvpwag",
        "outputId": "8017b173-50e8-4a42-f2ee-ac6ba8b63ea5"
      },
      "outputs": [
        {
          "output_type": "execute_result",
          "data": {
            "text/plain": [
              "[(('9017538', datetime.date(2022, 1, 8)), [230204, 631357]),\n",
              " (('9035020', datetime.date(2022, 1, 8)), [900164]),\n",
              " (('9020900', datetime.date(2022, 1, 8)), [900149]),\n",
              " (('9021792', datetime.date(2022, 1, 8)),\n",
              "  [900246,\n",
              "   100700871,\n",
              "   900235,\n",
              "   631697,\n",
              "   22009971,\n",
              "   900265,\n",
              "   900235,\n",
              "   100700871,\n",
              "   22009972,\n",
              "   900215,\n",
              "   209103]),\n",
              " (('9038947', datetime.date(2022, 1, 8)),\n",
              "  [100701059, 900234, 900234, 100701059, 117, 117, 117]),\n",
              " (('9024221', datetime.date(2022, 1, 8)), [631765]),\n",
              " (('9012923', datetime.date(2022, 1, 8)), [900101, 100700841]),\n",
              " (('9009732', datetime.date(2022, 1, 8)), [900227]),\n",
              " (('9031414', datetime.date(2022, 1, 8)), [900191, 900129, 900275]),\n",
              " (('9031445', datetime.date(2022, 1, 8)), [100701092, 22010053])]"
            ]
          },
          "metadata": {},
          "execution_count": 8
        }
      ],
      "source": [
        "df_mapped = df.rdd.map(lambda x: ((x['ORIGINE_CAR_KEY'], x['PASS_DAY_TIME'].date()), [x['DEVICE_CODE']]))\n",
        "df_mapped3 = df_mapped.reduceByKey(lambda a,b: a+b)\n",
        "df_mapped2 = df_mapped3   #.sample(False,0.1)\n",
        "df_mapped2.take(10)"
      ]
    },
    {
      "cell_type": "markdown",
      "metadata": {
        "id": "mJM7PdQzWEqf"
      },
      "source": [
        "ب)محاسبه شباهت کسینوسی بین یک مسیر فرضی و مسیر خودروها و گزارش پنج مسیر و خودرو با بیشترین شباهت  "
      ]
    },
    {
      "cell_type": "markdown",
      "metadata": {
        "id": "cbHOhldVXJ4f"
      },
      "source": [
        "برای یافتن فاصله‌ی کسینوسی به جای تشکیل بردار با طول هزار متشکل از مقادیر صفر و یک برای هر مسیر میتوان تعداد کدهای مشترک بین هر مسیر و مسیر فرضی را بدست آورد و سپس بر اندازه‌ی بردار مسیر پیشنهادی و همچنین اندازه‌ی مسیر هر خودرو تقسیم نمود.\n",
        " در این مساله خروجی این روش همان خروجی موردنظر یعنی شباهت کسینوسی خواهد بود و فقط بسیار ساده تر محاسبه می شود"
      ]
    },
    {
      "cell_type": "code",
      "execution_count": 34,
      "metadata": {
        "colab": {
          "base_uri": "https://localhost:8080/"
        },
        "id": "6w1EeXoSC6BH",
        "outputId": "7e662e51-fba6-4638-ba90-ecd3bf543b25"
      },
      "outputs": [
        {
          "output_type": "execute_result",
          "data": {
            "text/plain": [
              "[(('9017538', [230204, 631357]), 0.0),\n",
              " (('9035020', [900164]), 0.0),\n",
              " (('9020900', [900149]), 0.0),\n",
              " (('9021792',\n",
              "   [900246,\n",
              "    100700871,\n",
              "    900235,\n",
              "    631697,\n",
              "    22009971,\n",
              "    900265,\n",
              "    900235,\n",
              "    100700871,\n",
              "    22009972,\n",
              "    900215,\n",
              "    209103]),\n",
              "  0.38138503569823695),\n",
              " (('9038947', [100701059, 900234, 900234, 100701059, 117, 117, 117]), 0.0),\n",
              " (('9024221', [631765]), 0.0),\n",
              " (('9012923', [900101, 100700841]), 0.0),\n",
              " (('9009732', [900227]), 0.0),\n",
              " (('9031414', [900191, 900129, 900275]), 0.0),\n",
              " (('9031445', [100701092, 22010053]), 0.0),\n",
              " (('9016898', [900212, 900269]), 0.0),\n",
              " (('9026982', [900266]), 0.0),\n",
              " (('9024336', [900164, 100700880, 100700880, 900138]), 0.0),\n",
              " (('9024374',\n",
              "   [22009972, 900215, 900251, 103002, 900234, 631829, 900251, 631366]),\n",
              "  0.0),\n",
              " (('9136608',\n",
              "   [202101, 202901, 203902, 203902, 203902, 203902, 900248, 203902]),\n",
              "  0.0),\n",
              " (('9190591', [900174]), 0.0),\n",
              " (('9153235', [900142, 900156, 900199]), 0.0),\n",
              " (('9150695', [900212, 900224]), 0.0),\n",
              " (('9156538', [100700804, 209103]), 0.0),\n",
              " (('9160135', [230101]), 0.0)]"
            ]
          },
          "metadata": {},
          "execution_count": 34
        }
      ],
      "source": [
        "import math \n",
        "path = [900246,100700871,900235,631697] #masire farzi\n",
        "lenPath = 10\n",
        "similarity_rdd = df_mapped2.map(lambda x: ((x[0][0], x[1]), len(list(set(path) & set(x[1])))/math.sqrt(len(x[1])*lenPath)))\n",
        "similarity_rdd.take(20)"
      ]
    },
    {
      "cell_type": "markdown",
      "metadata": {
        "id": "UL0d_hjAWDE4"
      },
      "source": [
        "پس از بدست آمدن مقادیر شباهت کسینوسی هر مسیر با مسیر فرضی ۵ مسیر و خودرو با بیشترین شباهت با مسیر فرضی را نمایش میدهیم"
      ]
    },
    {
      "cell_type": "code",
      "execution_count": 35,
      "metadata": {
        "colab": {
          "base_uri": "https://localhost:8080/"
        },
        "id": "Me6L4nH9HYHX",
        "outputId": "53466508-0141-49e5-96ec-3f0b8ba54d8c"
      },
      "outputs": [
        {
          "output_type": "execute_result",
          "data": {
            "text/plain": [
              "[(('57373850', [900235, 900246, 100700871]), 0.5477225575051661),\n",
              " (('15787221', [900246, 900235, 100700871]), 0.5477225575051661),\n",
              " (('92669360', [900235, 900246, 100700871]), 0.5477225575051661),\n",
              " (('10055017', [900235, 631765, 900246, 100700871]), 0.4743416490252569),\n",
              " (('90966204', [100700871, 900235, 900246, 631357]), 0.4743416490252569)]"
            ]
          },
          "metadata": {},
          "execution_count": 35
        }
      ],
      "source": [
        "similarPath = similarity_rdd.takeOrdered(5, key = lambda x: -x[1])\n",
        "similarPath"
      ]
    },
    {
      "cell_type": "markdown",
      "metadata": {
        "id": "ERvMx8klYR67"
      },
      "source": [
        "پ) با استفاده از روش ال اس اج بخش ب را حل کنید  و محاسبات مربوط به نحوه\n",
        "استفاده از آن ها را انجام دهید. سپس مسیر های مشابه با مسیر فرضی را گزارش کنید. در صورت افزایش تعداد هایپرپلین ها دقت به چه صورت افزایش می یابد."
      ]
    },
    {
      "cell_type": "markdown",
      "metadata": {
        "id": "Jg03rD7MtVFn"
      },
      "source": [
        "برای یافتن بردارهای مشابه با بردار فرضی تعریف شده به کمک روش ال اس اچ، اول بردار دوربینهای مجزا را می سازیم. در این مسیله ابتدا تعداد توابع مین هش یعنی هایپرپلین ها را برابر با 20۰ قرار میدهیم و در ادامه تغییرات را با دوبرابر کردنشان بررسی میکنیم. "
      ]
    },
    {
      "cell_type": "code",
      "execution_count": 70,
      "metadata": {
        "id": "tyUNcq3SH0r4",
        "colab": {
          "base_uri": "https://localhost:8080/",
          "height": 537
        },
        "outputId": "957b043e-5c34-4398-85b4-fc9eb8289948"
      },
      "outputs": [
        {
          "output_type": "stream",
          "name": "stderr",
          "text": [
            "ERROR:root:KeyboardInterrupt while sending command.\n",
            "Traceback (most recent call last):\n",
            "  File \"/usr/local/lib/python3.8/dist-packages/py4j/java_gateway.py\", line 1038, in send_command\n",
            "    response = connection.send_command(command)\n",
            "  File \"/usr/local/lib/python3.8/dist-packages/py4j/clientserver.py\", line 511, in send_command\n",
            "    answer = smart_decode(self.stream.readline()[:-1])\n",
            "  File \"/usr/lib/python3.8/socket.py\", line 669, in readinto\n",
            "    return self._sock.recv_into(b)\n",
            "KeyboardInterrupt\n"
          ]
        },
        {
          "output_type": "error",
          "ename": "KeyboardInterrupt",
          "evalue": "ignored",
          "traceback": [
            "\u001b[0;31m---------------------------------------------------------------------------\u001b[0m",
            "\u001b[0;31mKeyboardInterrupt\u001b[0m                         Traceback (most recent call last)",
            "\u001b[0;32m<ipython-input-70-59adcf9f6be3>\u001b[0m in \u001b[0;36m<module>\u001b[0;34m\u001b[0m\n\u001b[1;32m      1\u001b[0m \u001b[0mhyperplane\u001b[0m \u001b[0;34m=\u001b[0m \u001b[0;36m20\u001b[0m\u001b[0;34m\u001b[0m\u001b[0;34m\u001b[0m\u001b[0m\n\u001b[0;32m----> 2\u001b[0;31m \u001b[0mf\u001b[0m \u001b[0;34m=\u001b[0m \u001b[0mdf_mapped2\u001b[0m\u001b[0;34m.\u001b[0m\u001b[0mcollect\u001b[0m\u001b[0;34m(\u001b[0m\u001b[0;34m)\u001b[0m\u001b[0;34m\u001b[0m\u001b[0;34m\u001b[0m\u001b[0m\n\u001b[0m\u001b[1;32m      3\u001b[0m \u001b[0ml\u001b[0m \u001b[0;34m=\u001b[0m \u001b[0;34m[\u001b[0m\u001b[0;34m]\u001b[0m\u001b[0;34m\u001b[0m\u001b[0;34m\u001b[0m\u001b[0m\n\u001b[1;32m      4\u001b[0m \u001b[0;32mfor\u001b[0m \u001b[0mli\u001b[0m \u001b[0;32min\u001b[0m \u001b[0mf\u001b[0m \u001b[0;34m:\u001b[0m\u001b[0;34m\u001b[0m\u001b[0;34m\u001b[0m\u001b[0m\n\u001b[1;32m      5\u001b[0m   \u001b[0ml\u001b[0m\u001b[0;34m.\u001b[0m\u001b[0mextend\u001b[0m\u001b[0;34m(\u001b[0m\u001b[0mli\u001b[0m\u001b[0;34m)\u001b[0m\u001b[0;34m\u001b[0m\u001b[0;34m\u001b[0m\u001b[0m\n",
            "\u001b[0;32m/usr/local/lib/python3.8/dist-packages/pyspark/rdd.py\u001b[0m in \u001b[0;36mcollect\u001b[0;34m(self)\u001b[0m\n\u001b[1;32m   1195\u001b[0m         \u001b[0;32mwith\u001b[0m \u001b[0mSCCallSiteSync\u001b[0m\u001b[0;34m(\u001b[0m\u001b[0mself\u001b[0m\u001b[0;34m.\u001b[0m\u001b[0mcontext\u001b[0m\u001b[0;34m)\u001b[0m\u001b[0;34m:\u001b[0m\u001b[0;34m\u001b[0m\u001b[0;34m\u001b[0m\u001b[0m\n\u001b[1;32m   1196\u001b[0m             \u001b[0;32massert\u001b[0m \u001b[0mself\u001b[0m\u001b[0;34m.\u001b[0m\u001b[0mctx\u001b[0m\u001b[0;34m.\u001b[0m\u001b[0m_jvm\u001b[0m \u001b[0;32mis\u001b[0m \u001b[0;32mnot\u001b[0m \u001b[0;32mNone\u001b[0m\u001b[0;34m\u001b[0m\u001b[0;34m\u001b[0m\u001b[0m\n\u001b[0;32m-> 1197\u001b[0;31m             \u001b[0msock_info\u001b[0m \u001b[0;34m=\u001b[0m \u001b[0mself\u001b[0m\u001b[0;34m.\u001b[0m\u001b[0mctx\u001b[0m\u001b[0;34m.\u001b[0m\u001b[0m_jvm\u001b[0m\u001b[0;34m.\u001b[0m\u001b[0mPythonRDD\u001b[0m\u001b[0;34m.\u001b[0m\u001b[0mcollectAndServe\u001b[0m\u001b[0;34m(\u001b[0m\u001b[0mself\u001b[0m\u001b[0;34m.\u001b[0m\u001b[0m_jrdd\u001b[0m\u001b[0;34m.\u001b[0m\u001b[0mrdd\u001b[0m\u001b[0;34m(\u001b[0m\u001b[0;34m)\u001b[0m\u001b[0;34m)\u001b[0m\u001b[0;34m\u001b[0m\u001b[0;34m\u001b[0m\u001b[0m\n\u001b[0m\u001b[1;32m   1198\u001b[0m         \u001b[0;32mreturn\u001b[0m \u001b[0mlist\u001b[0m\u001b[0;34m(\u001b[0m\u001b[0m_load_from_socket\u001b[0m\u001b[0;34m(\u001b[0m\u001b[0msock_info\u001b[0m\u001b[0;34m,\u001b[0m \u001b[0mself\u001b[0m\u001b[0;34m.\u001b[0m\u001b[0m_jrdd_deserializer\u001b[0m\u001b[0;34m)\u001b[0m\u001b[0;34m)\u001b[0m\u001b[0;34m\u001b[0m\u001b[0;34m\u001b[0m\u001b[0m\n\u001b[1;32m   1199\u001b[0m \u001b[0;34m\u001b[0m\u001b[0m\n",
            "\u001b[0;32m/usr/local/lib/python3.8/dist-packages/py4j/java_gateway.py\u001b[0m in \u001b[0;36m__call__\u001b[0;34m(self, *args)\u001b[0m\n\u001b[1;32m   1318\u001b[0m             \u001b[0mproto\u001b[0m\u001b[0;34m.\u001b[0m\u001b[0mEND_COMMAND_PART\u001b[0m\u001b[0;34m\u001b[0m\u001b[0;34m\u001b[0m\u001b[0m\n\u001b[1;32m   1319\u001b[0m \u001b[0;34m\u001b[0m\u001b[0m\n\u001b[0;32m-> 1320\u001b[0;31m         \u001b[0manswer\u001b[0m \u001b[0;34m=\u001b[0m \u001b[0mself\u001b[0m\u001b[0;34m.\u001b[0m\u001b[0mgateway_client\u001b[0m\u001b[0;34m.\u001b[0m\u001b[0msend_command\u001b[0m\u001b[0;34m(\u001b[0m\u001b[0mcommand\u001b[0m\u001b[0;34m)\u001b[0m\u001b[0;34m\u001b[0m\u001b[0;34m\u001b[0m\u001b[0m\n\u001b[0m\u001b[1;32m   1321\u001b[0m         return_value = get_return_value(\n\u001b[1;32m   1322\u001b[0m             answer, self.gateway_client, self.target_id, self.name)\n",
            "\u001b[0;32m/usr/local/lib/python3.8/dist-packages/py4j/java_gateway.py\u001b[0m in \u001b[0;36msend_command\u001b[0;34m(self, command, retry, binary)\u001b[0m\n\u001b[1;32m   1036\u001b[0m         \u001b[0mconnection\u001b[0m \u001b[0;34m=\u001b[0m \u001b[0mself\u001b[0m\u001b[0;34m.\u001b[0m\u001b[0m_get_connection\u001b[0m\u001b[0;34m(\u001b[0m\u001b[0;34m)\u001b[0m\u001b[0;34m\u001b[0m\u001b[0;34m\u001b[0m\u001b[0m\n\u001b[1;32m   1037\u001b[0m         \u001b[0;32mtry\u001b[0m\u001b[0;34m:\u001b[0m\u001b[0;34m\u001b[0m\u001b[0;34m\u001b[0m\u001b[0m\n\u001b[0;32m-> 1038\u001b[0;31m             \u001b[0mresponse\u001b[0m \u001b[0;34m=\u001b[0m \u001b[0mconnection\u001b[0m\u001b[0;34m.\u001b[0m\u001b[0msend_command\u001b[0m\u001b[0;34m(\u001b[0m\u001b[0mcommand\u001b[0m\u001b[0;34m)\u001b[0m\u001b[0;34m\u001b[0m\u001b[0;34m\u001b[0m\u001b[0m\n\u001b[0m\u001b[1;32m   1039\u001b[0m             \u001b[0;32mif\u001b[0m \u001b[0mbinary\u001b[0m\u001b[0;34m:\u001b[0m\u001b[0;34m\u001b[0m\u001b[0;34m\u001b[0m\u001b[0m\n\u001b[1;32m   1040\u001b[0m                 \u001b[0;32mreturn\u001b[0m \u001b[0mresponse\u001b[0m\u001b[0;34m,\u001b[0m \u001b[0mself\u001b[0m\u001b[0;34m.\u001b[0m\u001b[0m_create_connection_guard\u001b[0m\u001b[0;34m(\u001b[0m\u001b[0mconnection\u001b[0m\u001b[0;34m)\u001b[0m\u001b[0;34m\u001b[0m\u001b[0;34m\u001b[0m\u001b[0m\n",
            "\u001b[0;32m/usr/local/lib/python3.8/dist-packages/py4j/clientserver.py\u001b[0m in \u001b[0;36msend_command\u001b[0;34m(self, command)\u001b[0m\n\u001b[1;32m    509\u001b[0m         \u001b[0;32mtry\u001b[0m\u001b[0;34m:\u001b[0m\u001b[0;34m\u001b[0m\u001b[0;34m\u001b[0m\u001b[0m\n\u001b[1;32m    510\u001b[0m             \u001b[0;32mwhile\u001b[0m \u001b[0;32mTrue\u001b[0m\u001b[0;34m:\u001b[0m\u001b[0;34m\u001b[0m\u001b[0;34m\u001b[0m\u001b[0m\n\u001b[0;32m--> 511\u001b[0;31m                 \u001b[0manswer\u001b[0m \u001b[0;34m=\u001b[0m \u001b[0msmart_decode\u001b[0m\u001b[0;34m(\u001b[0m\u001b[0mself\u001b[0m\u001b[0;34m.\u001b[0m\u001b[0mstream\u001b[0m\u001b[0;34m.\u001b[0m\u001b[0mreadline\u001b[0m\u001b[0;34m(\u001b[0m\u001b[0;34m)\u001b[0m\u001b[0;34m[\u001b[0m\u001b[0;34m:\u001b[0m\u001b[0;34m-\u001b[0m\u001b[0;36m1\u001b[0m\u001b[0;34m]\u001b[0m\u001b[0;34m)\u001b[0m\u001b[0;34m\u001b[0m\u001b[0;34m\u001b[0m\u001b[0m\n\u001b[0m\u001b[1;32m    512\u001b[0m                 \u001b[0mlogger\u001b[0m\u001b[0;34m.\u001b[0m\u001b[0mdebug\u001b[0m\u001b[0;34m(\u001b[0m\u001b[0;34m\"Answer received: {0}\"\u001b[0m\u001b[0;34m.\u001b[0m\u001b[0mformat\u001b[0m\u001b[0;34m(\u001b[0m\u001b[0manswer\u001b[0m\u001b[0;34m)\u001b[0m\u001b[0;34m)\u001b[0m\u001b[0;34m\u001b[0m\u001b[0;34m\u001b[0m\u001b[0m\n\u001b[1;32m    513\u001b[0m                 \u001b[0;31m# Happens when a the other end is dead. There might be an empty\u001b[0m\u001b[0;34m\u001b[0m\u001b[0;34m\u001b[0m\u001b[0;34m\u001b[0m\u001b[0m\n",
            "\u001b[0;32m/usr/lib/python3.8/socket.py\u001b[0m in \u001b[0;36mreadinto\u001b[0;34m(self, b)\u001b[0m\n\u001b[1;32m    667\u001b[0m         \u001b[0;32mwhile\u001b[0m \u001b[0;32mTrue\u001b[0m\u001b[0;34m:\u001b[0m\u001b[0;34m\u001b[0m\u001b[0;34m\u001b[0m\u001b[0m\n\u001b[1;32m    668\u001b[0m             \u001b[0;32mtry\u001b[0m\u001b[0;34m:\u001b[0m\u001b[0;34m\u001b[0m\u001b[0;34m\u001b[0m\u001b[0m\n\u001b[0;32m--> 669\u001b[0;31m                 \u001b[0;32mreturn\u001b[0m \u001b[0mself\u001b[0m\u001b[0;34m.\u001b[0m\u001b[0m_sock\u001b[0m\u001b[0;34m.\u001b[0m\u001b[0mrecv_into\u001b[0m\u001b[0;34m(\u001b[0m\u001b[0mb\u001b[0m\u001b[0;34m)\u001b[0m\u001b[0;34m\u001b[0m\u001b[0;34m\u001b[0m\u001b[0m\n\u001b[0m\u001b[1;32m    670\u001b[0m             \u001b[0;32mexcept\u001b[0m \u001b[0mtimeout\u001b[0m\u001b[0;34m:\u001b[0m\u001b[0;34m\u001b[0m\u001b[0;34m\u001b[0m\u001b[0m\n\u001b[1;32m    671\u001b[0m                 \u001b[0mself\u001b[0m\u001b[0;34m.\u001b[0m\u001b[0m_timeout_occurred\u001b[0m \u001b[0;34m=\u001b[0m \u001b[0;32mTrue\u001b[0m\u001b[0;34m\u001b[0m\u001b[0;34m\u001b[0m\u001b[0m\n",
            "\u001b[0;31mKeyboardInterrupt\u001b[0m: "
          ]
        }
      ],
      "source": [
        "hyperplane = 20 \n",
        "# f = df_mapped2.collect()\n",
        "# l = []\n",
        "# for li in f :\n",
        "#   l.extend(li)\n",
        "# allcameradist = list(set(l))\n",
        "allcamera = df_mapped2.flatMap(lambda line: line[1])\n",
        "allcameradist = allcamera.distinct().collect()\n",
        "sc.broadcast(allcameradist)\n",
        "l = len(allcameradist)\n",
        "len(allcameradist)"
      ]
    },
    {
      "cell_type": "markdown",
      "metadata": {
        "id": "Scye7eIAbNA5"
      },
      "source": [
        " برای یافتن بردار هش شده‌ی به طول 20 از هر یک از مسیرها، بر اساس وجود اولین یک در هر یک از  جایگشت رندوم ایجاد شده در بالا، عمل می کنیم. در توابع زیرفرایند تولید جایگشت ها و بررسی وجود دوربین فوق در مسیر انجام میگیرد"
      ]
    },
    {
      "cell_type": "code",
      "source": [
        "import numpy as np\n",
        "random_start = []\n",
        "for i in range(hyperplane):\n",
        "  random_start.append(np.random.permutation(l))\n",
        "sc.broadcast(random_start)\n"
      ],
      "metadata": {
        "id": "1Wqz2XaNA8jp"
      },
      "execution_count": null,
      "outputs": []
    },
    {
      "cell_type": "code",
      "execution_count": null,
      "metadata": {
        "id": "mcpl6kHMq4Fr"
      },
      "outputs": [],
      "source": [
        "\n",
        "def findfirstone(arr, per, size):\n",
        "  for i in range(len(arr)):\n",
        "    if arr[per[i]]==1 :\n",
        "      return per[i]\n",
        "  return len(arr)\n",
        "\n",
        "def minHashing(row):\n",
        "  x = row[1]\n",
        "  result = []\n",
        "  place = np.zeros(len(allcameradist))\n",
        "  for j in range(len(x)):\n",
        "      place[allcameradist.index(x[j])] = 1\n",
        "  place = list(place)\n",
        "  for i in random_start:\n",
        "      result.append(findfirstone(place, i, len(allcameradist)))\n",
        "\n",
        "  return (row[1], result)\n",
        "\n",
        "df_lsh = df_mapped2.map(minHashing)\n",
        "df_lsh.take(1)"
      ]
    },
    {
      "cell_type": "markdown",
      "metadata": {
        "id": "lle_RjhucIBY"
      },
      "source": [
        "همین کار را برای مسیر فرضیمان نیز انجام میدهیم و بردار هش شده به طول 20 آن را بدست می‌آوریم"
      ]
    },
    {
      "cell_type": "code",
      "execution_count": null,
      "metadata": {
        "id": "Ydrtq6tw5m8v"
      },
      "outputs": [],
      "source": [
        "path = (0,[900246,100700871,900235,631697])\n",
        "path_lsh = minHashing(path)\n",
        "sc.broadcast(path_lsh)\n",
        "path_lsh"
      ]
    },
    {
      "cell_type": "markdown",
      "metadata": {
        "id": "1GcoUeJveQtT"
      },
      "source": [
        "پس از بدست آوردن هش هر مسیر آن را به دو صورت با هش مسیر فرضی مقایسه میکنیم\n",
        "\n",
        "\n",
        "\n",
        "1.   and then or\n",
        "2.   or then and\n",
        "\n",
        "در این جا خروجی برای هر مسیر به این صورت می باشد:\n",
        "\n",
        "(تعداد هش های یکسان تقسیم بر کل تعداد هش ها، حاصل اور، حاصل اند،  مسیر )\n",
        "\n",
        "r= 5 و b=4 "
      ]
    },
    {
      "cell_type": "code",
      "execution_count": null,
      "metadata": {
        "id": "S9OiLED5EuF2"
      },
      "outputs": [],
      "source": [
        "r = 5\n",
        "b = 4\n",
        "sc.broadcast(r)\n",
        "sc.broadcast(b)\n",
        "\n",
        "def check_similarity(x):\n",
        "  y = x[1]\n",
        "  orres = list(np.full(b, False))\n",
        "  andres = list(np.full(b, True))\n",
        "  sum = 0\n",
        "  for i in range(len(y)):\n",
        "    andres[int(i/r)] = andres[int(i/r)] and (path_lsh[i] == y[i])\n",
        "    orres[int(i/r)] = orres[int(i/r)] or (path_lsh[i] == y[i])\n",
        "    if(path_lsh[i] == y[i]):\n",
        "      sum += 1\n",
        "  return (x[0],(andres,orres,sum/len(y)))\n",
        "\n",
        "df_similarity_LSH = df_lsh.map(check_similarity)\n",
        "df_similarity_LSH.take(10)"
      ]
    },
    {
      "cell_type": "code",
      "execution_count": null,
      "metadata": {
        "id": "r5TA6t6XMhgr"
      },
      "outputs": [],
      "source": [
        "def and_then_or(x):\n",
        "    res = False\n",
        "    for i in x[1][0]:\n",
        "      res = res or i\n",
        "    return (x[0],(x[1][2],res))\n",
        "\n",
        "and_or_result = df_similarity_LSH.map(and_then_or)\n",
        "\n",
        "similar_or = and_or_result.filter(lambda x: x[1][1] == True)\n",
        "similar_or.collect()\n",
        "similar_or2 = similar_or.takeOrdered(5, key = lambda x: -x[1][0])\n",
        "similar_or2"
      ]
    },
    {
      "cell_type": "code",
      "execution_count": null,
      "metadata": {
        "id": "nZcNfwv6NFdh"
      },
      "outputs": [],
      "source": [
        "def or_then_and(x):\n",
        "      res = True\n",
        "      for i in x[1][1]:\n",
        "        res = res and i\n",
        "      return (x[0],(x[1][2],res))\n",
        "\n",
        "or_and_result = df_similarity_LSH.map(or_then_and)\n",
        "\n",
        "similar_and = or_and_result.filter(lambda x: x[1][1] == True)\n",
        "similar_and.collect()\n",
        "similar_and2 = similar_and.takeOrdered(5, key = lambda x: -x[1][0])\n",
        "similar_and2\n"
      ]
    },
    {
      "cell_type": "markdown",
      "metadata": {
        "id": "sGff8deKgNKr"
      },
      "source": [
        "حال همین کار را با تعداد هایپر پلین های 40  انجام میدهیم\n",
        "\n",
        "r=5 , b=8"
      ]
    },
    {
      "cell_type": "code",
      "execution_count": null,
      "metadata": {
        "id": "370cP14ugVy9"
      },
      "outputs": [],
      "source": [
        "hyperplane = 40\n",
        "r = 5\n",
        "b = 8\n",
        "l = len(allcameradist)\n",
        "sc.broadcast(r)\n",
        "sc.broadcast(b)\n",
        "\n",
        "import numpy as np\n",
        "random_start = []\n",
        "for i in range(hyperplane):\n",
        "  random_start.append(np.random.permutation(l))\n",
        "sc.broadcast(random_start)\n",
        "\n",
        "df_lsh2 = df_mapped2.map(minHashing)\n",
        "path_lsh = minHashing(path)\n",
        "sc.broadcast(path_lsh)\n",
        "\n",
        "df_similarity_LSH2 = df_lsh2.map(check_similarity)\n",
        "df_similarity_LSH2.take(10)"
      ]
    },
    {
      "cell_type": "code",
      "execution_count": null,
      "metadata": {
        "id": "5_iJ3qH7jOrS"
      },
      "outputs": [],
      "source": [
        "and_or_result2 = df_similarity_LSH2.map(and_then_or)\n",
        "\n",
        "similar_or2 = and_or_result2.filter(lambda x: x[1][1] == True)\n",
        "similar_or2.collect()\n",
        "similar_or22 = similar_or2.takeOrdered(5, key = lambda x: -x[1][0])\n",
        "similar_or22"
      ]
    },
    {
      "cell_type": "code",
      "source": [
        "or_and_result2 = df_similarity_LSH2.map(or_then_and)\n",
        "\n",
        "similar_and2 = or_and_result2.filter(lambda x: x[1][1] == True)\n",
        "similar_and2.collect()\n",
        "similar_and22 = similar_and2.takeOrdered(5, key = lambda x: -x[1][0])\n",
        "similar_and22"
      ],
      "metadata": {
        "id": "YVWYkaMa3fcR"
      },
      "execution_count": null,
      "outputs": []
    },
    {
      "cell_type": "markdown",
      "metadata": {
        "id": "d1zJhX9IiiAg"
      },
      "source": [
        "بنظر می رسد با افزایش تعداد هایپر پلین ها، دقت به صورت نمایی بهتر شده است  "
      ]
    }
  ],
  "metadata": {
    "colab": {
      "provenance": [],
      "include_colab_link": true
    },
    "kernelspec": {
      "display_name": "Python 3",
      "language": "python",
      "name": "python3"
    },
    "language_info": {
      "codemirror_mode": {
        "name": "ipython",
        "version": 3
      },
      "file_extension": ".py",
      "mimetype": "text/x-python",
      "name": "python",
      "nbconvert_exporter": "python",
      "pygments_lexer": "ipython3",
      "version": "3.7.6"
    },
    "gpuClass": "standard"
  },
  "nbformat": 4,
  "nbformat_minor": 0
}